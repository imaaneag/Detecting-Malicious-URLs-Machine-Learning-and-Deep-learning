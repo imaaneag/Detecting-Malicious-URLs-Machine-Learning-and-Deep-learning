{
 "cells": [
  {
   "cell_type": "markdown",
   "metadata": {},
   "source": [
    "<h1>Projet MAchine Learning & Deep Learning</h1>"
   ]
  },
  {
   "cell_type": "markdown",
   "metadata": {},
   "source": [
    "Le sujet : Detecting malicious URLs"
   ]
  },
  {
   "cell_type": "markdown",
   "metadata": {},
   "source": [
    "Membres de groupe : \n",
    "<ul>\n",
    "    <li>AGOULZI Imane</li>\n",
    "    <li>AMELLALN Ayoub</li>\n",
    "    <li>EL BERDAI Adam</li>\n",
    "    <li>JOUIJATE Rim</li>\n",
    "</ul>\n",
    "<br>Filière : SSI \n",
    "<br>Professeur : BENBRAHIM Houda\n",
    "<br>Année universitaire 2022-2023"
   ]
  },
  {
   "cell_type": "code",
   "execution_count": 4,
   "metadata": {
    "id": "E2tu8rm1Vf6t"
   },
   "outputs": [],
   "source": [
    "import numpy as np \n",
    "import pandas as pd \n",
    "\n",
    "import matplotlib.pyplot as plt\n",
    "import seaborn as sns\n",
    "\n",
    "import os"
   ]
  },
  {
   "cell_type": "code",
   "execution_count": 5,
   "metadata": {
    "colab": {
     "base_uri": "https://localhost:8080/"
    },
    "id": "ckfLjUlbxNXC",
    "outputId": "d25881ac-4f34-4f30-dfcc-5209126e4cd9"
   },
   "outputs": [],
   "source": [
    "df = pd.read_csv(\"urldata.csv\")"
   ]
  },
  {
   "cell_type": "code",
   "execution_count": 6,
   "metadata": {
    "colab": {
     "base_uri": "https://localhost:8080/",
     "height": 206
    },
    "id": "FqVD-ibMVu3s",
    "outputId": "1be45894-2df2-498c-f322-c4bba8854346"
   },
   "outputs": [
    {
     "data": {
      "text/html": [
       "<div>\n",
       "<style scoped>\n",
       "    .dataframe tbody tr th:only-of-type {\n",
       "        vertical-align: middle;\n",
       "    }\n",
       "\n",
       "    .dataframe tbody tr th {\n",
       "        vertical-align: top;\n",
       "    }\n",
       "\n",
       "    .dataframe thead th {\n",
       "        text-align: right;\n",
       "    }\n",
       "</style>\n",
       "<table border=\"1\" class=\"dataframe\">\n",
       "  <thead>\n",
       "    <tr style=\"text-align: right;\">\n",
       "      <th></th>\n",
       "      <th>Unnamed: 0</th>\n",
       "      <th>url</th>\n",
       "      <th>label</th>\n",
       "      <th>result</th>\n",
       "    </tr>\n",
       "  </thead>\n",
       "  <tbody>\n",
       "    <tr>\n",
       "      <th>0</th>\n",
       "      <td>0</td>\n",
       "      <td>https://www.google.com</td>\n",
       "      <td>benign</td>\n",
       "      <td>0</td>\n",
       "    </tr>\n",
       "    <tr>\n",
       "      <th>1</th>\n",
       "      <td>1</td>\n",
       "      <td>https://www.youtube.com</td>\n",
       "      <td>benign</td>\n",
       "      <td>0</td>\n",
       "    </tr>\n",
       "    <tr>\n",
       "      <th>2</th>\n",
       "      <td>2</td>\n",
       "      <td>https://www.facebook.com</td>\n",
       "      <td>benign</td>\n",
       "      <td>0</td>\n",
       "    </tr>\n",
       "    <tr>\n",
       "      <th>3</th>\n",
       "      <td>3</td>\n",
       "      <td>https://www.baidu.com</td>\n",
       "      <td>benign</td>\n",
       "      <td>0</td>\n",
       "    </tr>\n",
       "    <tr>\n",
       "      <th>4</th>\n",
       "      <td>4</td>\n",
       "      <td>https://www.wikipedia.org</td>\n",
       "      <td>benign</td>\n",
       "      <td>0</td>\n",
       "    </tr>\n",
       "  </tbody>\n",
       "</table>\n",
       "</div>"
      ],
      "text/plain": [
       "   Unnamed: 0                        url   label  result\n",
       "0           0     https://www.google.com  benign       0\n",
       "1           1    https://www.youtube.com  benign       0\n",
       "2           2   https://www.facebook.com  benign       0\n",
       "3           3      https://www.baidu.com  benign       0\n",
       "4           4  https://www.wikipedia.org  benign       0"
      ]
     },
     "execution_count": 6,
     "metadata": {},
     "output_type": "execute_result"
    }
   ],
   "source": [
    "df.head() #les premiers éléments du tableau de données"
   ]
  },
  {
   "cell_type": "code",
   "execution_count": 7,
   "metadata": {
    "id": "zgwoj_MCWKXm"
   },
   "outputs": [],
   "source": [
    "#on supprime les attributs qui n'apportent pas d'infos nécessaires\n",
    "df = df.drop('Unnamed: 0',axis=1)"
   ]
  },
  {
   "cell_type": "code",
   "execution_count": 8,
   "metadata": {
    "colab": {
     "base_uri": "https://localhost:8080/"
    },
    "id": "x0CNW3WdWgKV",
    "outputId": "449c2673-8940-4ef0-d9c3-7e67b0821c08"
   },
   "outputs": [
    {
     "data": {
      "text/plain": [
       "(450176, 3)"
      ]
     },
     "execution_count": 8,
     "metadata": {},
     "output_type": "execute_result"
    }
   ],
   "source": [
    "#le nombre d'exemples et le nombre d'attributs\n",
    "df.shape"
   ]
  },
  {
   "cell_type": "code",
   "execution_count": 9,
   "metadata": {
    "colab": {
     "base_uri": "https://localhost:8080/"
    },
    "id": "Z0KbONpdWpP2",
    "outputId": "87091da8-038a-4061-a9c8-fcf24120db3d"
   },
   "outputs": [
    {
     "name": "stdout",
     "output_type": "stream",
     "text": [
      "<class 'pandas.core.frame.DataFrame'>\n",
      "RangeIndex: 450176 entries, 0 to 450175\n",
      "Data columns (total 3 columns):\n",
      " #   Column  Non-Null Count   Dtype \n",
      "---  ------  --------------   ----- \n",
      " 0   url     450176 non-null  object\n",
      " 1   label   450176 non-null  object\n",
      " 2   result  450176 non-null  int64 \n",
      "dtypes: int64(1), object(2)\n",
      "memory usage: 10.3+ MB\n"
     ]
    }
   ],
   "source": [
    "#les informations sur notre dataframe\n",
    "df.info()"
   ]
  },
  {
   "cell_type": "code",
   "execution_count": 10,
   "metadata": {
    "colab": {
     "base_uri": "https://localhost:8080/"
    },
    "id": "08FGP3OlXdvk",
    "outputId": "b86389e2-73b2-4e72-c5ad-9b42d0d964a1"
   },
   "outputs": [
    {
     "data": {
      "text/plain": [
       "url       0\n",
       "label     0\n",
       "result    0\n",
       "dtype: int64"
      ]
     },
     "execution_count": 10,
     "metadata": {},
     "output_type": "execute_result"
    }
   ],
   "source": [
    "#tester s'il y a de valeurs manquantes\n",
    "df.isnull().sum()"
   ]
  },
  {
   "cell_type": "markdown",
   "metadata": {
    "id": "Swq0Aoho0nru"
   },
   "source": [
    "cela montre qui'l n'y a pas de valeurs manquantes"
   ]
  },
  {
   "cell_type": "markdown",
   "metadata": {
    "id": "FpbENueGiyGS"
   },
   "source": [
    "<h2>1 - DATA PREPROCESSING</h2>"
   ]
  },
  {
   "cell_type": "markdown",
   "metadata": {
    "id": "rdD2ZLxIXrSE"
   },
   "source": [
    "On va extraire de chaque URL les attributs suivants :\n",
    "<br>En premier lieu, (des entiers)\n",
    "  <ul>\n",
    "  <li>la longueur d'URL</li>\n",
    "  <li>la longueur du Hostname</li>\n",
    "  <li>la longueur du path</li>\n",
    "  <li>la longueur du First Directory</li> \n",
    "  </ul>\n",
    "<br>En deuxième lieu, (des entiers)\n",
    "  <ul>\n",
    "  <li>nombre de '-'</li>\n",
    "  <li>nombre de '@'</li>\n",
    "  <li>nombre de '?'</li>\n",
    "  <li>nombre de '.'</li>\n",
    "  <li>nombre de '%'</li>\n",
    "  <li>nombre de '='</li>\n",
    "  <li>nombre de 'http'</li>\n",
    "  <li>nombre de chiffres</li>\n",
    "  <li>nombre de Lettres</li>\n",
    "  <li>nombre de Directories</li>\n",
    "  </ul>\n",
    "<br>En troisième lieu, (attributs binaires)\n",
    "  <ul>\n",
    "  <li>l'utilisation ou non de IP</li>\n",
    "  <li>l'utilisation ou non de Shortening URL</li>\n",
    "  </ul>"
   ]
  },
  {
   "cell_type": "markdown",
   "metadata": {
    "id": "4eXwr5NYbBYs"
   },
   "source": [
    "***1/ le premier groupe d'attributs***"
   ]
  },
  {
   "cell_type": "code",
   "execution_count": 11,
   "metadata": {
    "colab": {
     "base_uri": "https://localhost:8080/"
    },
    "id": "iuBDudMNXs7c",
    "outputId": "7e3b8744-453d-44da-b057-9e7f64570176"
   },
   "outputs": [
    {
     "name": "stdout",
     "output_type": "stream",
     "text": [
      "Requirement already satisfied: tld in c:\\users\\hp\\anaconda3\\lib\\site-packages (0.12.6)\n"
     ]
    }
   ],
   "source": [
    "!pip install tld"
   ]
  },
  {
   "cell_type": "code",
   "execution_count": 12,
   "metadata": {
    "id": "_Un4B_dxbBIc"
   },
   "outputs": [],
   "source": [
    "from urllib.parse import urlparse\n",
    "from tld import get_tld\n",
    "import os.path"
   ]
  },
  {
   "cell_type": "code",
   "execution_count": 13,
   "metadata": {
    "id": "DMd0yzw-ER5t"
   },
   "outputs": [],
   "source": [
    "#longueur d'URL\n",
    "df['longueur_url'] = df['url'].apply(lambda i: len(str(i)))"
   ]
  },
  {
   "cell_type": "code",
   "execution_count": 14,
   "metadata": {
    "id": "RxO-iNFAcpD6"
   },
   "outputs": [],
   "source": [
    "#la longueur du Hostname\n",
    "df['longueur_hostname'] = df['url'].apply(lambda i: len(urlparse(i).netloc))"
   ]
  },
  {
   "cell_type": "code",
   "execution_count": 15,
   "metadata": {
    "id": "VgGo5go8cr0i"
   },
   "outputs": [],
   "source": [
    "#la longueur du path\n",
    "df['longueur_path'] = df['url'].apply(lambda i: len(urlparse(i).path))"
   ]
  },
  {
   "cell_type": "code",
   "execution_count": 16,
   "metadata": {
    "id": "VmMgRjXzcsIy"
   },
   "outputs": [],
   "source": [
    "#la longueur du First Directory\n",
    "def fd_length(url):\n",
    "    urlpath= urlparse(url).path\n",
    "    try:\n",
    "        return len(urlpath.split('/')[1])\n",
    "    except:\n",
    "        return 0\n",
    "\n",
    "df['longueur_fd'] = df['url'].apply(lambda i: fd_length(i))"
   ]
  },
  {
   "cell_type": "code",
   "execution_count": 17,
   "metadata": {
    "id": "hZZZvln2dYfk"
   },
   "outputs": [],
   "source": [
    "#la longueur du Top Level Domain\n",
    "df['tld'] = df['url'].apply(lambda i: get_tld(i,fail_silently=True))\n",
    "def tld_length(tld):\n",
    "    try:\n",
    "        return len(tld)\n",
    "    except:\n",
    "        return -1\n",
    "\n",
    "df['longueur_tld'] = df['tld'].apply(lambda i: tld_length(i))"
   ]
  },
  {
   "cell_type": "code",
   "execution_count": 18,
   "metadata": {
    "colab": {
     "base_uri": "https://localhost:8080/",
     "height": 206
    },
    "id": "6o4btptzd457",
    "outputId": "faf6a78f-81f5-48b0-f9b5-8d4c40c214f7"
   },
   "outputs": [
    {
     "data": {
      "text/html": [
       "<div>\n",
       "<style scoped>\n",
       "    .dataframe tbody tr th:only-of-type {\n",
       "        vertical-align: middle;\n",
       "    }\n",
       "\n",
       "    .dataframe tbody tr th {\n",
       "        vertical-align: top;\n",
       "    }\n",
       "\n",
       "    .dataframe thead th {\n",
       "        text-align: right;\n",
       "    }\n",
       "</style>\n",
       "<table border=\"1\" class=\"dataframe\">\n",
       "  <thead>\n",
       "    <tr style=\"text-align: right;\">\n",
       "      <th></th>\n",
       "      <th>url</th>\n",
       "      <th>label</th>\n",
       "      <th>result</th>\n",
       "      <th>longueur_url</th>\n",
       "      <th>longueur_hostname</th>\n",
       "      <th>longueur_path</th>\n",
       "      <th>longueur_fd</th>\n",
       "      <th>tld</th>\n",
       "      <th>longueur_tld</th>\n",
       "    </tr>\n",
       "  </thead>\n",
       "  <tbody>\n",
       "    <tr>\n",
       "      <th>0</th>\n",
       "      <td>https://www.google.com</td>\n",
       "      <td>benign</td>\n",
       "      <td>0</td>\n",
       "      <td>22</td>\n",
       "      <td>14</td>\n",
       "      <td>0</td>\n",
       "      <td>0</td>\n",
       "      <td>com</td>\n",
       "      <td>3</td>\n",
       "    </tr>\n",
       "    <tr>\n",
       "      <th>1</th>\n",
       "      <td>https://www.youtube.com</td>\n",
       "      <td>benign</td>\n",
       "      <td>0</td>\n",
       "      <td>23</td>\n",
       "      <td>15</td>\n",
       "      <td>0</td>\n",
       "      <td>0</td>\n",
       "      <td>com</td>\n",
       "      <td>3</td>\n",
       "    </tr>\n",
       "    <tr>\n",
       "      <th>2</th>\n",
       "      <td>https://www.facebook.com</td>\n",
       "      <td>benign</td>\n",
       "      <td>0</td>\n",
       "      <td>24</td>\n",
       "      <td>16</td>\n",
       "      <td>0</td>\n",
       "      <td>0</td>\n",
       "      <td>com</td>\n",
       "      <td>3</td>\n",
       "    </tr>\n",
       "    <tr>\n",
       "      <th>3</th>\n",
       "      <td>https://www.baidu.com</td>\n",
       "      <td>benign</td>\n",
       "      <td>0</td>\n",
       "      <td>21</td>\n",
       "      <td>13</td>\n",
       "      <td>0</td>\n",
       "      <td>0</td>\n",
       "      <td>com</td>\n",
       "      <td>3</td>\n",
       "    </tr>\n",
       "    <tr>\n",
       "      <th>4</th>\n",
       "      <td>https://www.wikipedia.org</td>\n",
       "      <td>benign</td>\n",
       "      <td>0</td>\n",
       "      <td>25</td>\n",
       "      <td>17</td>\n",
       "      <td>0</td>\n",
       "      <td>0</td>\n",
       "      <td>org</td>\n",
       "      <td>3</td>\n",
       "    </tr>\n",
       "  </tbody>\n",
       "</table>\n",
       "</div>"
      ],
      "text/plain": [
       "                         url   label  result  longueur_url  longueur_hostname  \\\n",
       "0     https://www.google.com  benign       0            22                 14   \n",
       "1    https://www.youtube.com  benign       0            23                 15   \n",
       "2   https://www.facebook.com  benign       0            24                 16   \n",
       "3      https://www.baidu.com  benign       0            21                 13   \n",
       "4  https://www.wikipedia.org  benign       0            25                 17   \n",
       "\n",
       "   longueur_path  longueur_fd  tld  longueur_tld  \n",
       "0              0            0  com             3  \n",
       "1              0            0  com             3  \n",
       "2              0            0  com             3  \n",
       "3              0            0  com             3  \n",
       "4              0            0  org             3  "
      ]
     },
     "execution_count": 18,
     "metadata": {},
     "output_type": "execute_result"
    }
   ],
   "source": [
    "#revoir les premiers lignes de données après l'extraction des nouveaux attributs\n",
    "df.head()"
   ]
  },
  {
   "cell_type": "code",
   "execution_count": 19,
   "metadata": {
    "colab": {
     "base_uri": "https://localhost:8080/"
    },
    "id": "-ySkfki6eIx7",
    "outputId": "f721686b-fdcc-4fa0-d2cb-3ac8f7963e27"
   },
   "outputs": [
    {
     "name": "stderr",
     "output_type": "stream",
     "text": [
      "C:\\Users\\HP\\AppData\\Local\\Temp\\ipykernel_20300\\2551734815.py:1: FutureWarning: In a future version of pandas all arguments of DataFrame.drop except for the argument 'labels' will be keyword-only.\n",
      "  df = df.drop(\"tld\",1)\n"
     ]
    }
   ],
   "source": [
    "df = df.drop(\"tld\",1)"
   ]
  },
  {
   "cell_type": "code",
   "execution_count": 20,
   "metadata": {
    "colab": {
     "base_uri": "https://localhost:8080/",
     "height": 206
    },
    "id": "EjXpe0OoeQub",
    "outputId": "b177677c-b4b3-4fcf-f936-07ed6d76f630"
   },
   "outputs": [
    {
     "data": {
      "text/html": [
       "<div>\n",
       "<style scoped>\n",
       "    .dataframe tbody tr th:only-of-type {\n",
       "        vertical-align: middle;\n",
       "    }\n",
       "\n",
       "    .dataframe tbody tr th {\n",
       "        vertical-align: top;\n",
       "    }\n",
       "\n",
       "    .dataframe thead th {\n",
       "        text-align: right;\n",
       "    }\n",
       "</style>\n",
       "<table border=\"1\" class=\"dataframe\">\n",
       "  <thead>\n",
       "    <tr style=\"text-align: right;\">\n",
       "      <th></th>\n",
       "      <th>url</th>\n",
       "      <th>label</th>\n",
       "      <th>result</th>\n",
       "      <th>longueur_url</th>\n",
       "      <th>longueur_hostname</th>\n",
       "      <th>longueur_path</th>\n",
       "      <th>longueur_fd</th>\n",
       "      <th>longueur_tld</th>\n",
       "    </tr>\n",
       "  </thead>\n",
       "  <tbody>\n",
       "    <tr>\n",
       "      <th>0</th>\n",
       "      <td>https://www.google.com</td>\n",
       "      <td>benign</td>\n",
       "      <td>0</td>\n",
       "      <td>22</td>\n",
       "      <td>14</td>\n",
       "      <td>0</td>\n",
       "      <td>0</td>\n",
       "      <td>3</td>\n",
       "    </tr>\n",
       "    <tr>\n",
       "      <th>1</th>\n",
       "      <td>https://www.youtube.com</td>\n",
       "      <td>benign</td>\n",
       "      <td>0</td>\n",
       "      <td>23</td>\n",
       "      <td>15</td>\n",
       "      <td>0</td>\n",
       "      <td>0</td>\n",
       "      <td>3</td>\n",
       "    </tr>\n",
       "    <tr>\n",
       "      <th>2</th>\n",
       "      <td>https://www.facebook.com</td>\n",
       "      <td>benign</td>\n",
       "      <td>0</td>\n",
       "      <td>24</td>\n",
       "      <td>16</td>\n",
       "      <td>0</td>\n",
       "      <td>0</td>\n",
       "      <td>3</td>\n",
       "    </tr>\n",
       "    <tr>\n",
       "      <th>3</th>\n",
       "      <td>https://www.baidu.com</td>\n",
       "      <td>benign</td>\n",
       "      <td>0</td>\n",
       "      <td>21</td>\n",
       "      <td>13</td>\n",
       "      <td>0</td>\n",
       "      <td>0</td>\n",
       "      <td>3</td>\n",
       "    </tr>\n",
       "    <tr>\n",
       "      <th>4</th>\n",
       "      <td>https://www.wikipedia.org</td>\n",
       "      <td>benign</td>\n",
       "      <td>0</td>\n",
       "      <td>25</td>\n",
       "      <td>17</td>\n",
       "      <td>0</td>\n",
       "      <td>0</td>\n",
       "      <td>3</td>\n",
       "    </tr>\n",
       "  </tbody>\n",
       "</table>\n",
       "</div>"
      ],
      "text/plain": [
       "                         url   label  result  longueur_url  longueur_hostname  \\\n",
       "0     https://www.google.com  benign       0            22                 14   \n",
       "1    https://www.youtube.com  benign       0            23                 15   \n",
       "2   https://www.facebook.com  benign       0            24                 16   \n",
       "3      https://www.baidu.com  benign       0            21                 13   \n",
       "4  https://www.wikipedia.org  benign       0            25                 17   \n",
       "\n",
       "   longueur_path  longueur_fd  longueur_tld  \n",
       "0              0            0             3  \n",
       "1              0            0             3  \n",
       "2              0            0             3  \n",
       "3              0            0             3  \n",
       "4              0            0             3  "
      ]
     },
     "execution_count": 20,
     "metadata": {},
     "output_type": "execute_result"
    }
   ],
   "source": [
    "df.head()"
   ]
  },
  {
   "cell_type": "markdown",
   "metadata": {
    "id": "ge6FodPteYLL"
   },
   "source": [
    "***2/ le deuxième groupe d'attributs***"
   ]
  },
  {
   "cell_type": "code",
   "execution_count": 21,
   "metadata": {
    "id": "ITq6v15ceVMz"
   },
   "outputs": [],
   "source": [
    "#nombre de '-'\n",
    "df['nb-'] = df['url'].apply(lambda i: i.count('-'))"
   ]
  },
  {
   "cell_type": "code",
   "execution_count": 22,
   "metadata": {
    "id": "J33s1GFzerUE"
   },
   "outputs": [],
   "source": [
    "#nombre de '@'\n",
    "df['nb@'] = df['url'].apply(lambda i: i.count('@'))"
   ]
  },
  {
   "cell_type": "code",
   "execution_count": 23,
   "metadata": {
    "id": "UoZ0MJ6SethU"
   },
   "outputs": [],
   "source": [
    "#nombre de '?'\n",
    "df['nb?'] = df['url'].apply(lambda i: i.count('?'))"
   ]
  },
  {
   "cell_type": "code",
   "execution_count": 24,
   "metadata": {
    "id": "whzrxFLnevP8"
   },
   "outputs": [],
   "source": [
    "#nombre de '.'\n",
    "df['nb.'] = df['url'].apply(lambda i: i.count('.'))"
   ]
  },
  {
   "cell_type": "code",
   "execution_count": 25,
   "metadata": {
    "id": "mB61cn3MexZ7"
   },
   "outputs": [],
   "source": [
    "#nombre de '%'\n",
    "df['nb%'] = df['url'].apply(lambda i: i.count('%'))"
   ]
  },
  {
   "cell_type": "code",
   "execution_count": 26,
   "metadata": {
    "id": "hwhr8rEheznb"
   },
   "outputs": [],
   "source": [
    "#nombre de '='\n",
    "df['nb='] = df['url'].apply(lambda i: i.count('='))"
   ]
  },
  {
   "cell_type": "code",
   "execution_count": 27,
   "metadata": {
    "id": "Y5x55dWwe1As"
   },
   "outputs": [],
   "source": [
    "#nombre de 'http'\n",
    "df['nb-http'] = df['url'].apply(lambda i : i.count('http'))\n",
    "#nombre de 'https'\n",
    "df['nb-https'] = df['url'].apply(lambda i : i.count('https'))"
   ]
  },
  {
   "cell_type": "code",
   "execution_count": 28,
   "metadata": {
    "id": "4xMxu2xEfOUY"
   },
   "outputs": [],
   "source": [
    "#nombre de 'www'\n",
    "df['nb-www'] = df['url'].apply(lambda i: i.count('www'))"
   ]
  },
  {
   "cell_type": "code",
   "execution_count": 29,
   "metadata": {
    "id": "OV-N1rMoe3OU"
   },
   "outputs": [],
   "source": [
    "#nombre de chiffres\n",
    "def chiffres_count(url):\n",
    "    digits = 0\n",
    "    for i in url:\n",
    "        if i.isnumeric():\n",
    "            digits = digits + 1\n",
    "    return digits\n",
    "df['nb-chiffres']= df['url'].apply(lambda i: chiffres_count(i))"
   ]
  },
  {
   "cell_type": "code",
   "execution_count": 30,
   "metadata": {
    "id": "ElhPe2u9e6N8"
   },
   "outputs": [],
   "source": [
    "#nombre de Lettres\n",
    "def lettres_count(url):\n",
    "    letters = 0\n",
    "    for i in url:\n",
    "        if i.isalpha():\n",
    "            letters = letters + 1\n",
    "    return letters\n",
    "df['nb-letters']= df['url'].apply(lambda i: lettres_count(i))"
   ]
  },
  {
   "cell_type": "code",
   "execution_count": 31,
   "metadata": {
    "id": "n5T6zALTe7pr"
   },
   "outputs": [],
   "source": [
    "#nombre de Directories\n",
    "def nb_dir(url):\n",
    "    urldir = urlparse(url).path\n",
    "    return urldir.count('/')\n",
    "df['nb-dir'] = df['url'].apply(lambda i: nb_dir(i))"
   ]
  },
  {
   "cell_type": "code",
   "execution_count": 32,
   "metadata": {
    "colab": {
     "base_uri": "https://localhost:8080/",
     "height": 287
    },
    "id": "zE4cZAKgfY3S",
    "outputId": "602bca73-c6f0-4928-fd36-9e8e1029b940"
   },
   "outputs": [
    {
     "data": {
      "text/html": [
       "<div>\n",
       "<style scoped>\n",
       "    .dataframe tbody tr th:only-of-type {\n",
       "        vertical-align: middle;\n",
       "    }\n",
       "\n",
       "    .dataframe tbody tr th {\n",
       "        vertical-align: top;\n",
       "    }\n",
       "\n",
       "    .dataframe thead th {\n",
       "        text-align: right;\n",
       "    }\n",
       "</style>\n",
       "<table border=\"1\" class=\"dataframe\">\n",
       "  <thead>\n",
       "    <tr style=\"text-align: right;\">\n",
       "      <th></th>\n",
       "      <th>url</th>\n",
       "      <th>label</th>\n",
       "      <th>result</th>\n",
       "      <th>longueur_url</th>\n",
       "      <th>longueur_hostname</th>\n",
       "      <th>longueur_path</th>\n",
       "      <th>longueur_fd</th>\n",
       "      <th>longueur_tld</th>\n",
       "      <th>nb-</th>\n",
       "      <th>nb@</th>\n",
       "      <th>nb?</th>\n",
       "      <th>nb.</th>\n",
       "      <th>nb%</th>\n",
       "      <th>nb=</th>\n",
       "      <th>nb-http</th>\n",
       "      <th>nb-https</th>\n",
       "      <th>nb-www</th>\n",
       "      <th>nb-chiffres</th>\n",
       "      <th>nb-letters</th>\n",
       "      <th>nb-dir</th>\n",
       "    </tr>\n",
       "  </thead>\n",
       "  <tbody>\n",
       "    <tr>\n",
       "      <th>0</th>\n",
       "      <td>https://www.google.com</td>\n",
       "      <td>benign</td>\n",
       "      <td>0</td>\n",
       "      <td>22</td>\n",
       "      <td>14</td>\n",
       "      <td>0</td>\n",
       "      <td>0</td>\n",
       "      <td>3</td>\n",
       "      <td>0</td>\n",
       "      <td>0</td>\n",
       "      <td>0</td>\n",
       "      <td>2</td>\n",
       "      <td>0</td>\n",
       "      <td>0</td>\n",
       "      <td>1</td>\n",
       "      <td>1</td>\n",
       "      <td>1</td>\n",
       "      <td>0</td>\n",
       "      <td>17</td>\n",
       "      <td>0</td>\n",
       "    </tr>\n",
       "    <tr>\n",
       "      <th>1</th>\n",
       "      <td>https://www.youtube.com</td>\n",
       "      <td>benign</td>\n",
       "      <td>0</td>\n",
       "      <td>23</td>\n",
       "      <td>15</td>\n",
       "      <td>0</td>\n",
       "      <td>0</td>\n",
       "      <td>3</td>\n",
       "      <td>0</td>\n",
       "      <td>0</td>\n",
       "      <td>0</td>\n",
       "      <td>2</td>\n",
       "      <td>0</td>\n",
       "      <td>0</td>\n",
       "      <td>1</td>\n",
       "      <td>1</td>\n",
       "      <td>1</td>\n",
       "      <td>0</td>\n",
       "      <td>18</td>\n",
       "      <td>0</td>\n",
       "    </tr>\n",
       "    <tr>\n",
       "      <th>2</th>\n",
       "      <td>https://www.facebook.com</td>\n",
       "      <td>benign</td>\n",
       "      <td>0</td>\n",
       "      <td>24</td>\n",
       "      <td>16</td>\n",
       "      <td>0</td>\n",
       "      <td>0</td>\n",
       "      <td>3</td>\n",
       "      <td>0</td>\n",
       "      <td>0</td>\n",
       "      <td>0</td>\n",
       "      <td>2</td>\n",
       "      <td>0</td>\n",
       "      <td>0</td>\n",
       "      <td>1</td>\n",
       "      <td>1</td>\n",
       "      <td>1</td>\n",
       "      <td>0</td>\n",
       "      <td>19</td>\n",
       "      <td>0</td>\n",
       "    </tr>\n",
       "    <tr>\n",
       "      <th>3</th>\n",
       "      <td>https://www.baidu.com</td>\n",
       "      <td>benign</td>\n",
       "      <td>0</td>\n",
       "      <td>21</td>\n",
       "      <td>13</td>\n",
       "      <td>0</td>\n",
       "      <td>0</td>\n",
       "      <td>3</td>\n",
       "      <td>0</td>\n",
       "      <td>0</td>\n",
       "      <td>0</td>\n",
       "      <td>2</td>\n",
       "      <td>0</td>\n",
       "      <td>0</td>\n",
       "      <td>1</td>\n",
       "      <td>1</td>\n",
       "      <td>1</td>\n",
       "      <td>0</td>\n",
       "      <td>16</td>\n",
       "      <td>0</td>\n",
       "    </tr>\n",
       "    <tr>\n",
       "      <th>4</th>\n",
       "      <td>https://www.wikipedia.org</td>\n",
       "      <td>benign</td>\n",
       "      <td>0</td>\n",
       "      <td>25</td>\n",
       "      <td>17</td>\n",
       "      <td>0</td>\n",
       "      <td>0</td>\n",
       "      <td>3</td>\n",
       "      <td>0</td>\n",
       "      <td>0</td>\n",
       "      <td>0</td>\n",
       "      <td>2</td>\n",
       "      <td>0</td>\n",
       "      <td>0</td>\n",
       "      <td>1</td>\n",
       "      <td>1</td>\n",
       "      <td>1</td>\n",
       "      <td>0</td>\n",
       "      <td>20</td>\n",
       "      <td>0</td>\n",
       "    </tr>\n",
       "  </tbody>\n",
       "</table>\n",
       "</div>"
      ],
      "text/plain": [
       "                         url   label  result  longueur_url  longueur_hostname  \\\n",
       "0     https://www.google.com  benign       0            22                 14   \n",
       "1    https://www.youtube.com  benign       0            23                 15   \n",
       "2   https://www.facebook.com  benign       0            24                 16   \n",
       "3      https://www.baidu.com  benign       0            21                 13   \n",
       "4  https://www.wikipedia.org  benign       0            25                 17   \n",
       "\n",
       "   longueur_path  longueur_fd  longueur_tld  nb-  nb@  nb?  nb.  nb%  nb=  \\\n",
       "0              0            0             3    0    0    0    2    0    0   \n",
       "1              0            0             3    0    0    0    2    0    0   \n",
       "2              0            0             3    0    0    0    2    0    0   \n",
       "3              0            0             3    0    0    0    2    0    0   \n",
       "4              0            0             3    0    0    0    2    0    0   \n",
       "\n",
       "   nb-http  nb-https  nb-www  nb-chiffres  nb-letters  nb-dir  \n",
       "0        1         1       1            0          17       0  \n",
       "1        1         1       1            0          18       0  \n",
       "2        1         1       1            0          19       0  \n",
       "3        1         1       1            0          16       0  \n",
       "4        1         1       1            0          20       0  "
      ]
     },
     "execution_count": 32,
     "metadata": {},
     "output_type": "execute_result"
    }
   ],
   "source": [
    "#données après l'ajout de ces attributs\n",
    "df.head()"
   ]
  },
  {
   "cell_type": "markdown",
   "metadata": {
    "id": "ujg2RBXeg5ek"
   },
   "source": [
    "***3/ le troisième groupe d'attributs***"
   ]
  },
  {
   "cell_type": "code",
   "execution_count": 33,
   "metadata": {
    "id": "p7C2hmEpg-iL"
   },
   "outputs": [],
   "source": [
    "import re #regular expression"
   ]
  },
  {
   "cell_type": "code",
   "execution_count": 34,
   "metadata": {
    "id": "JrM38yn4hBRr"
   },
   "outputs": [],
   "source": [
    "#l'utilisation ou non de IP\n",
    "def having_ip_address(url):\n",
    "    match = re.search(\n",
    "        '(([01]?\\\\d\\\\d?|2[0-4]\\\\d|25[0-5])\\\\.([01]?\\\\d\\\\d?|2[0-4]\\\\d|25[0-5])\\\\.([01]?\\\\d\\\\d?|2[0-4]\\\\d|25[0-5])\\\\.'\n",
    "        '([01]?\\\\d\\\\d?|2[0-4]\\\\d|25[0-5])\\\\/)|'  # IPv4\n",
    "        '((0x[0-9a-fA-F]{1,2})\\\\.(0x[0-9a-fA-F]{1,2})\\\\.(0x[0-9a-fA-F]{1,2})\\\\.(0x[0-9a-fA-F]{1,2})\\\\/)' # IPv4 in hexadecimal\n",
    "        '(?:[a-fA-F0-9]{1,4}:){7}[a-fA-F0-9]{1,4}', url)  # Ipv6\n",
    "    if match:\n",
    "        # print match.group()\n",
    "        return -1\n",
    "    else:\n",
    "        # print 'No matching pattern found'\n",
    "        return 1\n",
    "df['use_of_ip'] = df['url'].apply(lambda i: having_ip_address(i))"
   ]
  },
  {
   "cell_type": "code",
   "execution_count": 35,
   "metadata": {
    "id": "mDWvZEqkhZa2"
   },
   "outputs": [],
   "source": [
    "#l'utilisation ou non de Shortening URL (c.à.d si on a une URL réduite)\n",
    "def shortening_service(url):\n",
    "    match = re.search('bit\\.ly|goo\\.gl|shorte\\.st|go2l\\.ink|x\\.co|ow\\.ly|t\\.co|tinyurl|tr\\.im|is\\.gd|cli\\.gs|'\n",
    "                      'yfrog\\.com|migre\\.me|ff\\.im|tiny\\.cc|url4\\.eu|twit\\.ac|su\\.pr|twurl\\.nl|snipurl\\.com|'\n",
    "                      'short\\.to|BudURL\\.com|ping\\.fm|post\\.ly|Just\\.as|bkite\\.com|snipr\\.com|fic\\.kr|loopt\\.us|'\n",
    "                      'doiop\\.com|short\\.ie|kl\\.am|wp\\.me|rubyurl\\.com|om\\.ly|to\\.ly|bit\\.do|t\\.co|lnkd\\.in|'\n",
    "                      'db\\.tt|qr\\.ae|adf\\.ly|goo\\.gl|bitly\\.com|cur\\.lv|tinyurl\\.com|ow\\.ly|bit\\.ly|ity\\.im|'\n",
    "                      'q\\.gs|is\\.gd|po\\.st|bc\\.vc|twitthis\\.com|u\\.to|j\\.mp|buzurl\\.com|cutt\\.us|u\\.bb|yourls\\.org|'\n",
    "                      'x\\.co|prettylinkpro\\.com|scrnch\\.me|filoops\\.info|vzturl\\.com|qr\\.net|1url\\.com|tweez\\.me|v\\.gd|'\n",
    "                      'tr\\.im|link\\.zip\\.net',\n",
    "                      url)\n",
    "    if match:\n",
    "        return -1\n",
    "    else:\n",
    "        return 1\n",
    "df['short_url'] = df['url'].apply(lambda i: shortening_service(i))"
   ]
  },
  {
   "cell_type": "code",
   "execution_count": 36,
   "metadata": {
    "colab": {
     "base_uri": "https://localhost:8080/",
     "height": 317
    },
    "id": "fA5gtwaThgTr",
    "outputId": "8db66537-4a25-4a6c-f253-e230a31311f9"
   },
   "outputs": [
    {
     "data": {
      "text/html": [
       "<div>\n",
       "<style scoped>\n",
       "    .dataframe tbody tr th:only-of-type {\n",
       "        vertical-align: middle;\n",
       "    }\n",
       "\n",
       "    .dataframe tbody tr th {\n",
       "        vertical-align: top;\n",
       "    }\n",
       "\n",
       "    .dataframe thead th {\n",
       "        text-align: right;\n",
       "    }\n",
       "</style>\n",
       "<table border=\"1\" class=\"dataframe\">\n",
       "  <thead>\n",
       "    <tr style=\"text-align: right;\">\n",
       "      <th></th>\n",
       "      <th>url</th>\n",
       "      <th>label</th>\n",
       "      <th>result</th>\n",
       "      <th>longueur_url</th>\n",
       "      <th>longueur_hostname</th>\n",
       "      <th>longueur_path</th>\n",
       "      <th>longueur_fd</th>\n",
       "      <th>longueur_tld</th>\n",
       "      <th>nb-</th>\n",
       "      <th>nb@</th>\n",
       "      <th>...</th>\n",
       "      <th>nb%</th>\n",
       "      <th>nb=</th>\n",
       "      <th>nb-http</th>\n",
       "      <th>nb-https</th>\n",
       "      <th>nb-www</th>\n",
       "      <th>nb-chiffres</th>\n",
       "      <th>nb-letters</th>\n",
       "      <th>nb-dir</th>\n",
       "      <th>use_of_ip</th>\n",
       "      <th>short_url</th>\n",
       "    </tr>\n",
       "  </thead>\n",
       "  <tbody>\n",
       "    <tr>\n",
       "      <th>0</th>\n",
       "      <td>https://www.google.com</td>\n",
       "      <td>benign</td>\n",
       "      <td>0</td>\n",
       "      <td>22</td>\n",
       "      <td>14</td>\n",
       "      <td>0</td>\n",
       "      <td>0</td>\n",
       "      <td>3</td>\n",
       "      <td>0</td>\n",
       "      <td>0</td>\n",
       "      <td>...</td>\n",
       "      <td>0</td>\n",
       "      <td>0</td>\n",
       "      <td>1</td>\n",
       "      <td>1</td>\n",
       "      <td>1</td>\n",
       "      <td>0</td>\n",
       "      <td>17</td>\n",
       "      <td>0</td>\n",
       "      <td>1</td>\n",
       "      <td>1</td>\n",
       "    </tr>\n",
       "    <tr>\n",
       "      <th>1</th>\n",
       "      <td>https://www.youtube.com</td>\n",
       "      <td>benign</td>\n",
       "      <td>0</td>\n",
       "      <td>23</td>\n",
       "      <td>15</td>\n",
       "      <td>0</td>\n",
       "      <td>0</td>\n",
       "      <td>3</td>\n",
       "      <td>0</td>\n",
       "      <td>0</td>\n",
       "      <td>...</td>\n",
       "      <td>0</td>\n",
       "      <td>0</td>\n",
       "      <td>1</td>\n",
       "      <td>1</td>\n",
       "      <td>1</td>\n",
       "      <td>0</td>\n",
       "      <td>18</td>\n",
       "      <td>0</td>\n",
       "      <td>1</td>\n",
       "      <td>1</td>\n",
       "    </tr>\n",
       "    <tr>\n",
       "      <th>2</th>\n",
       "      <td>https://www.facebook.com</td>\n",
       "      <td>benign</td>\n",
       "      <td>0</td>\n",
       "      <td>24</td>\n",
       "      <td>16</td>\n",
       "      <td>0</td>\n",
       "      <td>0</td>\n",
       "      <td>3</td>\n",
       "      <td>0</td>\n",
       "      <td>0</td>\n",
       "      <td>...</td>\n",
       "      <td>0</td>\n",
       "      <td>0</td>\n",
       "      <td>1</td>\n",
       "      <td>1</td>\n",
       "      <td>1</td>\n",
       "      <td>0</td>\n",
       "      <td>19</td>\n",
       "      <td>0</td>\n",
       "      <td>1</td>\n",
       "      <td>1</td>\n",
       "    </tr>\n",
       "    <tr>\n",
       "      <th>3</th>\n",
       "      <td>https://www.baidu.com</td>\n",
       "      <td>benign</td>\n",
       "      <td>0</td>\n",
       "      <td>21</td>\n",
       "      <td>13</td>\n",
       "      <td>0</td>\n",
       "      <td>0</td>\n",
       "      <td>3</td>\n",
       "      <td>0</td>\n",
       "      <td>0</td>\n",
       "      <td>...</td>\n",
       "      <td>0</td>\n",
       "      <td>0</td>\n",
       "      <td>1</td>\n",
       "      <td>1</td>\n",
       "      <td>1</td>\n",
       "      <td>0</td>\n",
       "      <td>16</td>\n",
       "      <td>0</td>\n",
       "      <td>1</td>\n",
       "      <td>1</td>\n",
       "    </tr>\n",
       "    <tr>\n",
       "      <th>4</th>\n",
       "      <td>https://www.wikipedia.org</td>\n",
       "      <td>benign</td>\n",
       "      <td>0</td>\n",
       "      <td>25</td>\n",
       "      <td>17</td>\n",
       "      <td>0</td>\n",
       "      <td>0</td>\n",
       "      <td>3</td>\n",
       "      <td>0</td>\n",
       "      <td>0</td>\n",
       "      <td>...</td>\n",
       "      <td>0</td>\n",
       "      <td>0</td>\n",
       "      <td>1</td>\n",
       "      <td>1</td>\n",
       "      <td>1</td>\n",
       "      <td>0</td>\n",
       "      <td>20</td>\n",
       "      <td>0</td>\n",
       "      <td>1</td>\n",
       "      <td>1</td>\n",
       "    </tr>\n",
       "  </tbody>\n",
       "</table>\n",
       "<p>5 rows × 22 columns</p>\n",
       "</div>"
      ],
      "text/plain": [
       "                         url   label  result  longueur_url  longueur_hostname  \\\n",
       "0     https://www.google.com  benign       0            22                 14   \n",
       "1    https://www.youtube.com  benign       0            23                 15   \n",
       "2   https://www.facebook.com  benign       0            24                 16   \n",
       "3      https://www.baidu.com  benign       0            21                 13   \n",
       "4  https://www.wikipedia.org  benign       0            25                 17   \n",
       "\n",
       "   longueur_path  longueur_fd  longueur_tld  nb-  nb@  ...  nb%  nb=  nb-http  \\\n",
       "0              0            0             3    0    0  ...    0    0        1   \n",
       "1              0            0             3    0    0  ...    0    0        1   \n",
       "2              0            0             3    0    0  ...    0    0        1   \n",
       "3              0            0             3    0    0  ...    0    0        1   \n",
       "4              0            0             3    0    0  ...    0    0        1   \n",
       "\n",
       "   nb-https  nb-www  nb-chiffres  nb-letters  nb-dir  use_of_ip  short_url  \n",
       "0         1       1            0          17       0          1          1  \n",
       "1         1       1            0          18       0          1          1  \n",
       "2         1       1            0          19       0          1          1  \n",
       "3         1       1            0          16       0          1          1  \n",
       "4         1       1            0          20       0          1          1  \n",
       "\n",
       "[5 rows x 22 columns]"
      ]
     },
     "execution_count": 36,
     "metadata": {},
     "output_type": "execute_result"
    }
   ],
   "source": [
    "#revoir les données après l'ajout de ces deux attributs\n",
    "df.head()"
   ]
  },
  {
   "cell_type": "markdown",
   "metadata": {
    "id": "Q7lChBUKieE_"
   },
   "source": [
    "<h2>2 - Visualisation des données</h2>"
   ]
  },
  {
   "cell_type": "markdown",
   "metadata": {
    "id": "3EtP1ouFksza"
   },
   "source": [
    "***2-1/ Heatmap***"
   ]
  },
  {
   "cell_type": "code",
   "execution_count": 37,
   "metadata": {
    "colab": {
     "base_uri": "https://localhost:8080/",
     "height": 1000
    },
    "id": "KwLPSKWHiqTB",
    "outputId": "3f3d762a-0547-47b3-cd09-7352d0e1acf3"
   },
   "outputs": [
    {
     "data": {
      "text/plain": [
       "<AxesSubplot:>"
      ]
     },
     "execution_count": 37,
     "metadata": {},
     "output_type": "execute_result"
    },
    {
     "data": {
      "image/png": "[encoded data removed]",
      "text/plain": [
       "<Figure size 1800x1368 with 2 Axes>"
      ]
     },
     "metadata": {
      "needs_background": "light"
     },
     "output_type": "display_data"
    }
   ],
   "source": [
    "corrmat = df.corr()\n",
    "f, ax = plt.subplots(figsize=(25,19))\n",
    "sns.heatmap(corrmat, square=True, annot = True, annot_kws={'size':10},  cmap=\"Blues\")"
   ]
  },
  {
   "cell_type": "markdown",
   "metadata": {
    "id": "jZocfvCnlZ4K"
   },
   "source": [
    "***2-2/ noumbre d'URLs de chaque classe***"
   ]
  },
  {
   "cell_type": "code",
   "execution_count": 38,
   "metadata": {
    "colab": {
     "base_uri": "https://localhost:8080/",
     "height": 380
    },
    "id": "sZmTdQnllaMJ",
    "outputId": "0153d2fc-621d-4dcd-de22-ddb8afa0ab1c"
   },
   "outputs": [
    {
     "data": {
      "text/plain": [
       "Text(0, 0.5, \"Nombre d'URLs\")"
      ]
     },
     "execution_count": 38,
     "metadata": {},
     "output_type": "execute_result"
    },
    {
     "data": {
      "image/png": "[encoded data removed]",
      "text/plain": [
       "<Figure size 1080x360 with 1 Axes>"
      ]
     },
     "metadata": {
      "needs_background": "light"
     },
     "output_type": "display_data"
    }
   ],
   "source": [
    "plt.figure(figsize=(15,5))\n",
    "sns.countplot(x='label',data=df)\n",
    "plt.title(\"Nombre d'URLs par type\",fontsize=20)\n",
    "plt.xlabel(\"Type d'URLs\",fontsize=18)\n",
    "plt.ylabel(\"Nombre d'URLs\",fontsize=18)"
   ]
  },
  {
   "cell_type": "code",
   "execution_count": 39,
   "metadata": {
    "colab": {
     "base_uri": "https://localhost:8080/"
    },
    "id": "DQWvcqXMl0th",
    "outputId": "b2014924-c394-4ff0-fcd3-b10a747554e4"
   },
   "outputs": [
    {
     "name": "stdout",
     "output_type": "stream",
     "text": [
      "Pourcentage des URLs malveillantes:23.20 %\n",
      "Pourcentage des URLs non malveillantes:76.80 %\n"
     ]
    }
   ],
   "source": [
    "#pourcentage des URLs malvaillantes et non malveillantes\n",
    "print(\"Pourcentage des URLs malveillantes:{:.2f} %\".format(len(df[df['label']=='malicious'])/len(df['label'])*100))\n",
    "print(\"Pourcentage des URLs non malveillantes:{:.2f} %\".format(len(df[df['label']=='benign'])/len(df['label'])*100))"
   ]
  },
  {
   "cell_type": "markdown",
   "metadata": {
    "id": "BSVNkxpdoV3C"
   },
   "source": [
    "***2-3/ Autres graphes***"
   ]
  },
  {
   "cell_type": "code",
   "execution_count": 40,
   "metadata": {
    "colab": {
     "base_uri": "https://localhost:8080/",
     "height": 380
    },
    "id": "ETmQJrCgoeH5",
    "outputId": "c618ae94-3ac0-470a-9083-24c0645226d5"
   },
   "outputs": [
    {
     "data": {
      "text/plain": [
       "(0.0, 1000.0)"
      ]
     },
     "execution_count": 40,
     "metadata": {},
     "output_type": "execute_result"
    },
    {
     "data": {
      "image/png": "[encoded data removed]",
      "text/plain": [
       "<Figure size 1440x360 with 1 Axes>"
      ]
     },
     "metadata": {
      "needs_background": "light"
     },
     "output_type": "display_data"
    }
   ],
   "source": [
    "#longueurs d'URLs\n",
    "plt.figure(figsize=(20,5))\n",
    "plt.hist(df['longueur_url'],bins=50,color='LightBlue')\n",
    "plt.title(\"Longueur d'URL\",fontsize=20)\n",
    "plt.xlabel(\"longueur d'URL\",fontsize=18)\n",
    "plt.ylabel(\"Nombre d'URLs\",fontsize=18)\n",
    "plt.ylim(0,1000)"
   ]
  },
  {
   "cell_type": "code",
   "execution_count": 41,
   "metadata": {
    "colab": {
     "base_uri": "https://localhost:8080/",
     "height": 380
    },
    "id": "WcUVhpugo8Gx",
    "outputId": "ebdda80a-ad8f-4313-82b2-86d7600f7d62"
   },
   "outputs": [
    {
     "data": {
      "text/plain": [
       "(0.0, 1000.0)"
      ]
     },
     "execution_count": 41,
     "metadata": {},
     "output_type": "execute_result"
    },
    {
     "data": {
      "image/png": "[encoded data removed]",
      "text/plain": [
       "<Figure size 1440x360 with 1 Axes>"
      ]
     },
     "metadata": {
      "needs_background": "light"
     },
     "output_type": "display_data"
    }
   ],
   "source": [
    "#longueurs de Hostname\n",
    "plt.figure(figsize=(20,5))\n",
    "plt.hist(df['longueur_hostname'],bins=50,color='LightBlue')\n",
    "plt.title(\"Longueur du Hostname\",fontsize=20)\n",
    "plt.xlabel(\"longueur du Hostname\",fontsize=18)\n",
    "plt.ylabel(\"Nombre d'URLs\",fontsize=18)\n",
    "plt.ylim(0,1000)"
   ]
  },
  {
   "cell_type": "code",
   "execution_count": 42,
   "metadata": {
    "colab": {
     "base_uri": "https://localhost:8080/",
     "height": 380
    },
    "id": "NxwRFymtpl8r",
    "outputId": "4799fef5-6525-40c2-f725-49bb0d095aed"
   },
   "outputs": [
    {
     "data": {
      "text/plain": [
       "(0.0, 1000.0)"
      ]
     },
     "execution_count": 42,
     "metadata": {},
     "output_type": "execute_result"
    },
    {
     "data": {
      "image/png": "[encoded data removed]",
      "text/plain": [
       "<Figure size 1440x360 with 1 Axes>"
      ]
     },
     "metadata": {
      "needs_background": "light"
     },
     "output_type": "display_data"
    }
   ],
   "source": [
    "#Longueur du Top Level Domain\n",
    "plt.figure(figsize=(20,5))\n",
    "plt.hist(df['longueur_tld'],bins=50,color='LightBlue')\n",
    "plt.title(\"Longueur du TLD\",fontsize=20)\n",
    "plt.xlabel(\"longueur du TLD\",fontsize=18)\n",
    "plt.ylabel(\"Nombre d'URLs\",fontsize=18)\n",
    "plt.ylim(0,1000)"
   ]
  },
  {
   "cell_type": "code",
   "execution_count": 43,
   "metadata": {
    "colab": {
     "base_uri": "https://localhost:8080/",
     "height": 380
    },
    "id": "YvX6_OSnqCHh",
    "outputId": "4bb589c8-f528-4ad9-eb0e-ba21d5e74307"
   },
   "outputs": [
    {
     "data": {
      "text/plain": [
       "Text(0, 0.5, \"Nombre d'URLs\")"
      ]
     },
     "execution_count": 43,
     "metadata": {},
     "output_type": "execute_result"
    },
    {
     "data": {
      "image/png": "[encoded data removed]",
      "text/plain": [
       "<Figure size 1080x360 with 1 Axes>"
      ]
     },
     "metadata": {
      "needs_background": "light"
     },
     "output_type": "display_data"
    }
   ],
   "source": [
    "#Nombre de Directories\n",
    "plt.figure(figsize=(15,5))\n",
    "plt.title(\"Nombre de Directories dans l'URL\",fontsize=20)\n",
    "sns.countplot(x='nb-dir',data=df)\n",
    "plt.xlabel(\"Nombre de Directories\",fontsize=18)\n",
    "plt.ylabel(\"Nombre d'URLs\",fontsize=18)"
   ]
  },
  {
   "cell_type": "code",
   "execution_count": 44,
   "metadata": {
    "colab": {
     "base_uri": "https://localhost:8080/",
     "height": 380
    },
    "id": "yd0becGIrHr5",
    "outputId": "a966d2a6-e5d6-4c7a-da9f-2ab3a93ca37a"
   },
   "outputs": [
    {
     "data": {
      "text/plain": [
       "Text(0, 0.5, \"Nombre d'URLs\")"
      ]
     },
     "execution_count": 44,
     "metadata": {},
     "output_type": "execute_result"
    },
    {
     "data": {
      "image/png": "[encoded data removed]",
      "text/plain": [
       "<Figure size 1080x360 with 1 Axes>"
      ]
     },
     "metadata": {
      "needs_background": "light"
     },
     "output_type": "display_data"
    }
   ],
   "source": [
    "#Nombre de Directories par type d'URL (malveillante ou non)\n",
    "plt.figure(figsize=(15,5))\n",
    "plt.title(\"Nombre de Directories dans l'URL\",fontsize=20)\n",
    "sns.countplot(x='nb-dir',data=df,hue='label')\n",
    "plt.xlabel(\"Nombre de Directories\",fontsize=18)\n",
    "plt.ylabel(\"Nombre d'URLs\",fontsize=18)"
   ]
  },
  {
   "cell_type": "code",
   "execution_count": 45,
   "metadata": {
    "colab": {
     "base_uri": "https://localhost:8080/",
     "height": 435
    },
    "id": "5T_mY_fMrZ4w",
    "outputId": "bd6cb148-d6aa-45db-e5b0-86796cc6b6e0"
   },
   "outputs": [
    {
     "name": "stderr",
     "output_type": "stream",
     "text": [
      "C:\\Users\\HP\\anaconda3\\lib\\site-packages\\seaborn\\_decorators.py:36: FutureWarning: Pass the following variable as a keyword arg: x. From version 0.12, the only valid positional argument will be `data`, and passing other arguments without an explicit keyword will result in an error or misinterpretation.\n",
      "  warnings.warn(\n"
     ]
    },
    {
     "data": {
      "text/plain": [
       "Text(0, 0.5, \"Nombre d'URLs\")"
      ]
     },
     "execution_count": 45,
     "metadata": {},
     "output_type": "execute_result"
    },
    {
     "data": {
      "image/png": "[encoded data removed]",
      "text/plain": [
       "<Figure size 1080x360 with 1 Axes>"
      ]
     },
     "metadata": {
      "needs_background": "light"
     },
     "output_type": "display_data"
    }
   ],
   "source": [
    "#Nombre des URLs qui utilisent IP\n",
    "plt.figure(figsize=(15,5))\n",
    "plt.title(\"Utilisation d'IP dans l'URL\",fontsize=20)\n",
    "plt.xlabel(\"nb d'utilisation d'IP\",fontsize=18)\n",
    "sns.countplot(df['use_of_ip'])\n",
    "plt.ylabel(\"Nombre d'URLs\",fontsize=18)"
   ]
  },
  {
   "cell_type": "code",
   "execution_count": 46,
   "metadata": {
    "colab": {
     "base_uri": "https://localhost:8080/",
     "height": 435
    },
    "id": "AoINOrZ7sJHi",
    "outputId": "fe24be8a-f0b0-4c20-ed5b-371753bf2f85"
   },
   "outputs": [
    {
     "name": "stderr",
     "output_type": "stream",
     "text": [
      "C:\\Users\\HP\\anaconda3\\lib\\site-packages\\seaborn\\_decorators.py:36: FutureWarning: Pass the following variable as a keyword arg: x. From version 0.12, the only valid positional argument will be `data`, and passing other arguments without an explicit keyword will result in an error or misinterpretation.\n",
      "  warnings.warn(\n"
     ]
    },
    {
     "data": {
      "text/plain": [
       "Text(0, 0.5, \"Nombre d'URLs\")"
      ]
     },
     "execution_count": 46,
     "metadata": {},
     "output_type": "execute_result"
    },
    {
     "data": {
      "image/png": "[encoded data removed]",
      "text/plain": [
       "<Figure size 1080x360 with 1 Axes>"
      ]
     },
     "metadata": {
      "needs_background": "light"
     },
     "output_type": "display_data"
    }
   ],
   "source": [
    "#Nombre des URLs qui utilisent IP par type d'URL (malveillante ou non)\n",
    "plt.figure(figsize=(15,5))\n",
    "plt.title(\"Utilisation d'IP dans l'URL\",fontsize=20)\n",
    "plt.xlabel(\"nb d'utilisation d'IP\",fontsize=18)\n",
    "plt.ylabel(\"Nombre d'URLs\",fontsize=18)\n",
    "sns.countplot(df['use_of_ip'],hue='label',data=df)\n",
    "plt.ylabel(\"Nombre d'URLs\",fontsize=18)"
   ]
  },
  {
   "cell_type": "code",
   "execution_count": 47,
   "metadata": {
    "colab": {
     "base_uri": "https://localhost:8080/",
     "height": 435
    },
    "id": "8F2XarJKscHQ",
    "outputId": "a17e1adc-28cc-4fd3-855b-9b1d5e3b0db8"
   },
   "outputs": [
    {
     "name": "stderr",
     "output_type": "stream",
     "text": [
      "C:\\Users\\HP\\anaconda3\\lib\\site-packages\\seaborn\\_decorators.py:36: FutureWarning: Pass the following variable as a keyword arg: x. From version 0.12, the only valid positional argument will be `data`, and passing other arguments without an explicit keyword will result in an error or misinterpretation.\n",
      "  warnings.warn(\n"
     ]
    },
    {
     "data": {
      "text/plain": [
       "Text(0, 0.5, \"Nombre d'URLs\")"
      ]
     },
     "execution_count": 47,
     "metadata": {},
     "output_type": "execute_result"
    },
    {
     "data": {
      "image/png": "[encoded data removed]",
      "text/plain": [
       "<Figure size 1080x360 with 1 Axes>"
      ]
     },
     "metadata": {
      "needs_background": "light"
     },
     "output_type": "display_data"
    }
   ],
   "source": [
    "#Nombre des URLs ou il y a http\n",
    "plt.figure(figsize=(15,5))\n",
    "plt.title(\"Utilisation de http dans l'URL\",fontsize=20)\n",
    "plt.xlabel(\"nb d'utilisation de http\",fontsize=18)\n",
    "plt.ylim((0,1000))\n",
    "sns.countplot(df['nb-http'])\n",
    "plt.ylabel(\"Nombre d'URLs\",fontsize=18)"
   ]
  },
  {
   "cell_type": "code",
   "execution_count": 48,
   "metadata": {
    "colab": {
     "base_uri": "https://localhost:8080/",
     "height": 435
    },
    "id": "uv1HBm13tOTo",
    "outputId": "a0386abb-a650-424f-c799-be5ae94a4ccb"
   },
   "outputs": [
    {
     "name": "stderr",
     "output_type": "stream",
     "text": [
      "C:\\Users\\HP\\anaconda3\\lib\\site-packages\\seaborn\\_decorators.py:36: FutureWarning: Pass the following variable as a keyword arg: x. From version 0.12, the only valid positional argument will be `data`, and passing other arguments without an explicit keyword will result in an error or misinterpretation.\n",
      "  warnings.warn(\n"
     ]
    },
    {
     "data": {
      "text/plain": [
       "Text(0, 0.5, \"Nombre d'URLs\")"
      ]
     },
     "execution_count": 48,
     "metadata": {},
     "output_type": "execute_result"
    },
    {
     "data": {
      "image/png": "[encoded data removed]",
      "text/plain": [
       "<Figure size 1080x360 with 1 Axes>"
      ]
     },
     "metadata": {
      "needs_background": "light"
     },
     "output_type": "display_data"
    }
   ],
   "source": [
    "#Nombre des URLs ou il y a http par type d'URL (malveillante ou non)\n",
    "plt.figure(figsize=(15,5))\n",
    "plt.title(\"Utilisation de http dans l'URL\",fontsize=20)\n",
    "plt.xlabel(\"nb d'utilisation de http\",fontsize=18)\n",
    "plt.ylabel(\"Nombre d'URLs\",fontsize=18)\n",
    "plt.ylim((0,1000))\n",
    "sns.countplot(df['nb-https'],hue='label',data=df)\n",
    "plt.ylabel(\"Nombre d'URLs\",fontsize=18)"
   ]
  },
  {
   "cell_type": "code",
   "execution_count": 49,
   "metadata": {
    "colab": {
     "base_uri": "https://localhost:8080/",
     "height": 435
    },
    "id": "_ApZQ2Eit3Y0",
    "outputId": "0eb1c18e-3141-477d-c867-e3cffad269a0"
   },
   "outputs": [
    {
     "name": "stderr",
     "output_type": "stream",
     "text": [
      "C:\\Users\\HP\\anaconda3\\lib\\site-packages\\seaborn\\_decorators.py:36: FutureWarning: Pass the following variable as a keyword arg: x. From version 0.12, the only valid positional argument will be `data`, and passing other arguments without an explicit keyword will result in an error or misinterpretation.\n",
      "  warnings.warn(\n"
     ]
    },
    {
     "data": {
      "text/plain": [
       "Text(0, 0.5, \"Nombre d'URLs\")"
      ]
     },
     "execution_count": 49,
     "metadata": {},
     "output_type": "execute_result"
    },
    {
     "data": {
      "image/png": "[encoded data removed]",
      "text/plain": [
       "<Figure size 1080x360 with 1 Axes>"
      ]
     },
     "metadata": {
      "needs_background": "light"
     },
     "output_type": "display_data"
    }
   ],
   "source": [
    "#Nombre d'URL ou il y a www\n",
    "plt.figure(figsize=(15,5))\n",
    "plt.title(\"Utilisation de WWW dans l'URL\",fontsize=20)\n",
    "plt.xlabel(\"nb d'tilisation de WWW\",fontsize=18)\n",
    "sns.countplot(df['nb-www'])\n",
    "plt.ylim(0,1000)\n",
    "plt.ylabel(\"Nombre d'URLs\",fontsize=18)"
   ]
  },
  {
   "cell_type": "code",
   "execution_count": 50,
   "metadata": {
    "colab": {
     "base_uri": "https://localhost:8080/",
     "height": 435
    },
    "id": "daU_O3fFuiGW",
    "outputId": "a949f3a9-de9b-4066-9f5e-212e2d40d8ad"
   },
   "outputs": [
    {
     "name": "stderr",
     "output_type": "stream",
     "text": [
      "C:\\Users\\HP\\anaconda3\\lib\\site-packages\\seaborn\\_decorators.py:36: FutureWarning: Pass the following variable as a keyword arg: x. From version 0.12, the only valid positional argument will be `data`, and passing other arguments without an explicit keyword will result in an error or misinterpretation.\n",
      "  warnings.warn(\n"
     ]
    },
    {
     "data": {
      "text/plain": [
       "Text(0, 0.5, \"Nombre d'URLs\")"
      ]
     },
     "execution_count": 50,
     "metadata": {},
     "output_type": "execute_result"
    },
    {
     "data": {
      "image/png": "[encoded data removed]",
      "text/plain": [
       "<Figure size 1080x360 with 1 Axes>"
      ]
     },
     "metadata": {
      "needs_background": "light"
     },
     "output_type": "display_data"
    }
   ],
   "source": [
    "#Nombre d'URL ou il y a www par type d'URL (malveillante ou non)\n",
    "plt.figure(figsize=(15,5))\n",
    "plt.title(\"Utilisation de WWW dans l'URL\",fontsize=20)\n",
    "plt.xlabel(\"nb d'tilisation de WWW\",fontsize=18)\n",
    "\n",
    "sns.countplot(df['nb-www'],hue='label',data=df)\n",
    "plt.ylim(0,1000)\n",
    "plt.ylabel(\"Nombre d'URLs\",fontsize=18)"
   ]
  },
  {
   "cell_type": "code",
   "execution_count": 51,
   "metadata": {
    "colab": {
     "base_uri": "https://localhost:8080/"
    },
    "id": "isOjeHte_4Sk",
    "outputId": "8ced0f30-c0c9-4449-9173-d62ec6cf03f3"
   },
   "outputs": [
    {
     "data": {
      "text/plain": [
       "(450176, 22)"
      ]
     },
     "execution_count": 51,
     "metadata": {},
     "output_type": "execute_result"
    }
   ],
   "source": [
    "df.shape"
   ]
  },
  {
   "cell_type": "code",
   "execution_count": 52,
   "metadata": {
    "colab": {
     "base_uri": "https://localhost:8080/"
    },
    "id": "8a-V7I_9ABfb",
    "outputId": "57478981-572b-4e24-c722-1337f67ee35d"
   },
   "outputs": [
    {
     "name": "stdout",
     "output_type": "stream",
     "text": [
      "<class 'pandas.core.frame.DataFrame'>\n",
      "RangeIndex: 450176 entries, 0 to 450175\n",
      "Data columns (total 22 columns):\n",
      " #   Column             Non-Null Count   Dtype \n",
      "---  ------             --------------   ----- \n",
      " 0   url                450176 non-null  object\n",
      " 1   label              450176 non-null  object\n",
      " 2   result             450176 non-null  int64 \n",
      " 3   longueur_url       450176 non-null  int64 \n",
      " 4   longueur_hostname  450176 non-null  int64 \n",
      " 5   longueur_path      450176 non-null  int64 \n",
      " 6   longueur_fd        450176 non-null  int64 \n",
      " 7   longueur_tld       450176 non-null  int64 \n",
      " 8   nb-                450176 non-null  int64 \n",
      " 9   nb@                450176 non-null  int64 \n",
      " 10  nb?                450176 non-null  int64 \n",
      " 11  nb.                450176 non-null  int64 \n",
      " 12  nb%                450176 non-null  int64 \n",
      " 13  nb=                450176 non-null  int64 \n",
      " 14  nb-http            450176 non-null  int64 \n",
      " 15  nb-https           450176 non-null  int64 \n",
      " 16  nb-www             450176 non-null  int64 \n",
      " 17  nb-chiffres        450176 non-null  int64 \n",
      " 18  nb-letters         450176 non-null  int64 \n",
      " 19  nb-dir             450176 non-null  int64 \n",
      " 20  use_of_ip          450176 non-null  int64 \n",
      " 21  short_url          450176 non-null  int64 \n",
      "dtypes: int64(20), object(2)\n",
      "memory usage: 75.6+ MB\n"
     ]
    }
   ],
   "source": [
    "df.info()\n"
   ]
  },
  {
   "cell_type": "markdown",
   "metadata": {
    "id": "hrBIoRcoGePg"
   },
   "source": [
    "<h2>3 - Split des données</h2>"
   ]
  },
  {
   "cell_type": "code",
   "execution_count": 53,
   "metadata": {
    "id": "OZAqusmTFftl"
   },
   "outputs": [],
   "source": [
    "from sklearn.model_selection import train_test_split\n",
    "from sklearn.metrics import confusion_matrix,classification_report,accuracy_score"
   ]
  },
  {
   "cell_type": "code",
   "execution_count": 54,
   "metadata": {
    "id": "7xY-34D3GpdD"
   },
   "outputs": [],
   "source": [
    "#les variables indépendantes\n",
    "x = df[['longueur_hostname',\n",
    "       'longueur_path', 'longueur_fd', 'nb-', 'nb@', 'nb?',\n",
    "       'nb%', 'nb.', 'nb=', 'nb-http','nb-https', 'nb-www', 'nb-chiffres',\n",
    "       'nb-letters', 'nb-dir', 'use_of_ip']]\n",
    "\n",
    "#Variable Cible\n",
    "y = df['result']"
   ]
  },
  {
   "cell_type": "code",
   "execution_count": 55,
   "metadata": {},
   "outputs": [
    {
     "name": "stdout",
     "output_type": "stream",
     "text": [
      "Collecting package metadata (current_repodata.json): ...working... failed\n",
      "\n",
      "Note: you may need to restart the kernel to use updated packages.\n"
     ]
    },
    {
     "name": "stderr",
     "output_type": "stream",
     "text": [
      "\n",
      "CondaHTTPError: HTTP 000 CONNECTION FAILED for url <https://conda.anaconda.org/conda-forge/win-64/current_repodata.json>\n",
      "Elapsed: -\n",
      "\n",
      "An HTTP error occurred when trying to retrieve this URL.\n",
      "HTTP errors are often intermittent, and a simple retry will get you on your way.\n",
      "'https://conda.anaconda.org/conda-forge/win-64'\n",
      "\n",
      "\n"
     ]
    }
   ],
   "source": [
    "conda install -c conda-forge imbalanced-learn"
   ]
  },
  {
   "cell_type": "code",
   "execution_count": 56,
   "metadata": {},
   "outputs": [
    {
     "name": "stdout",
     "output_type": "stream",
     "text": [
      "Requirement already satisfied: imbalanced-learn in c:\\users\\hp\\anaconda3\\lib\\site-packages (0.10.1)\n",
      "Requirement already satisfied: threadpoolctl>=2.0.0 in c:\\users\\hp\\anaconda3\\lib\\site-packages (from imbalanced-learn) (2.2.0)\n",
      "Requirement already satisfied: scipy>=1.3.2 in c:\\users\\hp\\anaconda3\\lib\\site-packages (from imbalanced-learn) (1.7.3)\n",
      "Requirement already satisfied: numpy>=1.17.3 in c:\\users\\hp\\anaconda3\\lib\\site-packages (from imbalanced-learn) (1.21.5)\n",
      "Requirement already satisfied: joblib>=1.1.1 in c:\\users\\hp\\anaconda3\\lib\\site-packages (from imbalanced-learn) (1.2.0)\n",
      "Requirement already satisfied: scikit-learn>=1.0.2 in c:\\users\\hp\\anaconda3\\lib\\site-packages (from imbalanced-learn) (1.0.2)\n"
     ]
    }
   ],
   "source": [
    "!pip install imbalanced-learn\n"
   ]
  },
  {
   "cell_type": "code",
   "execution_count": 57,
   "metadata": {
    "colab": {
     "base_uri": "https://localhost:8080/"
    },
    "id": "ao7XR5NmHSKV",
    "outputId": "fdd28ebc-fed8-44bb-a5c0-80a9d2e3d7b9"
   },
   "outputs": [
    {
     "name": "stdout",
     "output_type": "stream",
     "text": [
      "Size of x-sample : (691476, 16)\n",
      "Size of y-sample : (691476, 1)\n"
     ]
    }
   ],
   "source": [
    "#pour traiter le déséquilibrage des données on utilise SMOTE\n",
    "from imblearn import under_sampling, over_sampling\n",
    "\n",
    "from imblearn.over_sampling import SMOTE\n",
    "\n",
    "x_sample, y_sample = SMOTE().fit_resample(x, y.values.ravel())\n",
    "\n",
    "x_sample = pd.DataFrame(x_sample)\n",
    "y_sample = pd.DataFrame(y_sample)\n",
    "\n",
    "# checking the sizes of the sample data\n",
    "print(\"Size of x-sample :\", x_sample.shape)\n",
    "print(\"Size of y-sample :\", y_sample.shape)"
   ]
  },
  {
   "cell_type": "code",
   "execution_count": 58,
   "metadata": {
    "colab": {
     "base_uri": "https://localhost:8080/"
    },
    "id": "J4bTQF8DKCsR",
    "outputId": "6a9b41fa-18a1-46ec-a359-9a3c4d411174"
   },
   "outputs": [
    {
     "name": "stdout",
     "output_type": "stream",
     "text": [
      "Shape of x_train:  (553180, 16)\n",
      "Shape of x_valid:  (138296, 16)\n",
      "Shape of y_train:  (553180, 1)\n",
      "Shape of y_valid:  (138296, 1)\n"
     ]
    }
   ],
   "source": [
    "#donnees d\"entrainemet et donnees d'apprentisaage\n",
    "from sklearn.model_selection import train_test_split\n",
    "\n",
    "x_train, x_test, y_train, y_test = train_test_split(x_sample, y_sample, test_size = 0.2) #20% test et 80% entrainement\n",
    "print(\"Shape of x_train: \", x_train.shape)\n",
    "print(\"Shape of x_valid: \", x_test.shape)\n",
    "print(\"Shape of y_train: \", y_train.shape)\n",
    "print(\"Shape of y_valid: \", y_test.shape)"
   ]
  },
  {
   "cell_type": "markdown",
   "metadata": {},
   "source": [
    "<h2>4 - knn</h2>"
   ]
  },
  {
   "cell_type": "code",
   "execution_count": 121,
   "metadata": {},
   "outputs": [
    {
     "name": "stdout",
     "output_type": "stream",
     "text": [
      "Collecting keras\n",
      "  Downloading keras-2.11.0-py2.py3-none-any.whl (1.7 MB)\n",
      "Installing collected packages: keras\n",
      "Successfully installed keras-2.11.0\n",
      "Note: you may need to restart the kernel to use updated packages.\n"
     ]
    }
   ],
   "source": [
    "pip install keras"
   ]
  },
  {
   "cell_type": "code",
   "execution_count": 59,
   "metadata": {
    "scrolled": true
   },
   "outputs": [],
   "source": [
    "from sklearn.neighbors import KNeighborsClassifier\n",
    "from sklearn.model_selection import train_test_split"
   ]
  },
  {
   "cell_type": "code",
   "execution_count": 60,
   "metadata": {},
   "outputs": [],
   "source": [
    "from sys import version_info\n",
    "#split to test and train data\n",
    "x_train, x_test, y_train, y_test = train_test_split(x, y,train_size=0.6,stratify=y,random_state=42)"
   ]
  },
  {
   "cell_type": "code",
   "execution_count": 61,
   "metadata": {},
   "outputs": [],
   "source": [
    "from sklearn.metrics import confusion_matrix, classification_report, accuracy_score"
   ]
  },
  {
   "cell_type": "code",
   "execution_count": 62,
   "metadata": {},
   "outputs": [
    {
     "name": "stdout",
     "output_type": "stream",
     "text": [
      "score : 0.9559507083317136\n",
      "\n",
      " taux d'erreur : 0.04404929166828642\n"
     ]
    }
   ],
   "source": [
    "#application de knn algo\n",
    "knn = KNeighborsClassifier()\n",
    "#apprentissage: # fit the model to our training data\n",
    "knn.fit(x_train,y_train)\n",
    "#test : # make predictions on the test set\n",
    "pred=knn.predict(x_test)\n",
    "\n",
    "#see if our modele is good : calculate the accuracy\n",
    "score = knn.score(x_test,y_test)\n",
    "print(\"score :\",score,end=\"\\n\")\n",
    "\n",
    "# taux d'erreur : calculate the error rate\n",
    "error_rate = 1 - score\n",
    "print(\"\\n taux d'erreur :\",error_rate)"
   ]
  },
  {
   "cell_type": "code",
   "execution_count": 63,
   "metadata": {},
   "outputs": [
    {
     "ename": "ValueError",
     "evalue": "pos_label=benign is not a valid label. It should be one of [0, 1]",
     "output_type": "error",
     "traceback": [
      "\u001b[1;31m---------------------------------------------------------------------------\u001b[0m",
      "\u001b[1;31mValueError\u001b[0m                                Traceback (most recent call last)",
      "Input \u001b[1;32mIn [63]\u001b[0m, in \u001b[0;36m<cell line: 5>\u001b[1;34m()\u001b[0m\n\u001b[0;32m      2\u001b[0m \u001b[38;5;28;01mfrom\u001b[39;00m \u001b[38;5;21;01msklearn\u001b[39;00m\u001b[38;5;21;01m.\u001b[39;00m\u001b[38;5;21;01mmetrics\u001b[39;00m \u001b[38;5;28;01mimport\u001b[39;00m precision_score, recall_score, f1_score, confusion_matrix\n\u001b[0;32m      4\u001b[0m \u001b[38;5;66;03m# calculate precision\u001b[39;00m\n\u001b[1;32m----> 5\u001b[0m precision \u001b[38;5;241m=\u001b[39m \u001b[43mprecision_score\u001b[49m\u001b[43m(\u001b[49m\u001b[43my_test\u001b[49m\u001b[43m,\u001b[49m\u001b[43m \u001b[49m\u001b[43mpred\u001b[49m\u001b[43m,\u001b[49m\u001b[43maverage\u001b[49m\u001b[38;5;241;43m=\u001b[39;49m\u001b[38;5;124;43m\"\u001b[39;49m\u001b[38;5;124;43mbinary\u001b[39;49m\u001b[38;5;124;43m\"\u001b[39;49m\u001b[43m,\u001b[49m\u001b[43m \u001b[49m\u001b[43mpos_label\u001b[49m\u001b[38;5;241;43m=\u001b[39;49m\u001b[38;5;124;43m'\u001b[39;49m\u001b[38;5;124;43mbenign\u001b[39;49m\u001b[38;5;124;43m'\u001b[39;49m\u001b[43m)\u001b[49m\n\u001b[0;32m      6\u001b[0m \u001b[38;5;28mprint\u001b[39m(\u001b[38;5;124m\"\u001b[39m\u001b[38;5;124mPrecision:\u001b[39m\u001b[38;5;124m\"\u001b[39m, precision)\n\u001b[0;32m      8\u001b[0m \u001b[38;5;66;03m# calculate recall\u001b[39;00m\n",
      "File \u001b[1;32m~\\anaconda3\\lib\\site-packages\\sklearn\\metrics\\_classification.py:1757\u001b[0m, in \u001b[0;36mprecision_score\u001b[1;34m(y_true, y_pred, labels, pos_label, average, sample_weight, zero_division)\u001b[0m\n\u001b[0;32m   1628\u001b[0m \u001b[38;5;28;01mdef\u001b[39;00m \u001b[38;5;21mprecision_score\u001b[39m(\n\u001b[0;32m   1629\u001b[0m     y_true,\n\u001b[0;32m   1630\u001b[0m     y_pred,\n\u001b[1;32m   (...)\u001b[0m\n\u001b[0;32m   1636\u001b[0m     zero_division\u001b[38;5;241m=\u001b[39m\u001b[38;5;124m\"\u001b[39m\u001b[38;5;124mwarn\u001b[39m\u001b[38;5;124m\"\u001b[39m,\n\u001b[0;32m   1637\u001b[0m ):\n\u001b[0;32m   1638\u001b[0m     \u001b[38;5;124;03m\"\"\"Compute the precision.\u001b[39;00m\n\u001b[0;32m   1639\u001b[0m \n\u001b[0;32m   1640\u001b[0m \u001b[38;5;124;03m    The precision is the ratio ``tp / (tp + fp)`` where ``tp`` is the number of\u001b[39;00m\n\u001b[1;32m   (...)\u001b[0m\n\u001b[0;32m   1755\u001b[0m \u001b[38;5;124;03m    array([0.5, 1. , 1. ])\u001b[39;00m\n\u001b[0;32m   1756\u001b[0m \u001b[38;5;124;03m    \"\"\"\u001b[39;00m\n\u001b[1;32m-> 1757\u001b[0m     p, _, _, _ \u001b[38;5;241m=\u001b[39m \u001b[43mprecision_recall_fscore_support\u001b[49m\u001b[43m(\u001b[49m\n\u001b[0;32m   1758\u001b[0m \u001b[43m        \u001b[49m\u001b[43my_true\u001b[49m\u001b[43m,\u001b[49m\n\u001b[0;32m   1759\u001b[0m \u001b[43m        \u001b[49m\u001b[43my_pred\u001b[49m\u001b[43m,\u001b[49m\n\u001b[0;32m   1760\u001b[0m \u001b[43m        \u001b[49m\u001b[43mlabels\u001b[49m\u001b[38;5;241;43m=\u001b[39;49m\u001b[43mlabels\u001b[49m\u001b[43m,\u001b[49m\n\u001b[0;32m   1761\u001b[0m \u001b[43m        \u001b[49m\u001b[43mpos_label\u001b[49m\u001b[38;5;241;43m=\u001b[39;49m\u001b[43mpos_label\u001b[49m\u001b[43m,\u001b[49m\n\u001b[0;32m   1762\u001b[0m \u001b[43m        \u001b[49m\u001b[43maverage\u001b[49m\u001b[38;5;241;43m=\u001b[39;49m\u001b[43maverage\u001b[49m\u001b[43m,\u001b[49m\n\u001b[0;32m   1763\u001b[0m \u001b[43m        \u001b[49m\u001b[43mwarn_for\u001b[49m\u001b[38;5;241;43m=\u001b[39;49m\u001b[43m(\u001b[49m\u001b[38;5;124;43m\"\u001b[39;49m\u001b[38;5;124;43mprecision\u001b[39;49m\u001b[38;5;124;43m\"\u001b[39;49m\u001b[43m,\u001b[49m\u001b[43m)\u001b[49m\u001b[43m,\u001b[49m\n\u001b[0;32m   1764\u001b[0m \u001b[43m        \u001b[49m\u001b[43msample_weight\u001b[49m\u001b[38;5;241;43m=\u001b[39;49m\u001b[43msample_weight\u001b[49m\u001b[43m,\u001b[49m\n\u001b[0;32m   1765\u001b[0m \u001b[43m        \u001b[49m\u001b[43mzero_division\u001b[49m\u001b[38;5;241;43m=\u001b[39;49m\u001b[43mzero_division\u001b[49m\u001b[43m,\u001b[49m\n\u001b[0;32m   1766\u001b[0m \u001b[43m    \u001b[49m\u001b[43m)\u001b[49m\n\u001b[0;32m   1767\u001b[0m     \u001b[38;5;28;01mreturn\u001b[39;00m p\n",
      "File \u001b[1;32m~\\anaconda3\\lib\\site-packages\\sklearn\\metrics\\_classification.py:1544\u001b[0m, in \u001b[0;36mprecision_recall_fscore_support\u001b[1;34m(y_true, y_pred, beta, labels, pos_label, average, warn_for, sample_weight, zero_division)\u001b[0m\n\u001b[0;32m   1542\u001b[0m \u001b[38;5;28;01mif\u001b[39;00m beta \u001b[38;5;241m<\u001b[39m \u001b[38;5;241m0\u001b[39m:\n\u001b[0;32m   1543\u001b[0m     \u001b[38;5;28;01mraise\u001b[39;00m \u001b[38;5;167;01mValueError\u001b[39;00m(\u001b[38;5;124m\"\u001b[39m\u001b[38;5;124mbeta should be >=0 in the F-beta score\u001b[39m\u001b[38;5;124m\"\u001b[39m)\n\u001b[1;32m-> 1544\u001b[0m labels \u001b[38;5;241m=\u001b[39m \u001b[43m_check_set_wise_labels\u001b[49m\u001b[43m(\u001b[49m\u001b[43my_true\u001b[49m\u001b[43m,\u001b[49m\u001b[43m \u001b[49m\u001b[43my_pred\u001b[49m\u001b[43m,\u001b[49m\u001b[43m \u001b[49m\u001b[43maverage\u001b[49m\u001b[43m,\u001b[49m\u001b[43m \u001b[49m\u001b[43mlabels\u001b[49m\u001b[43m,\u001b[49m\u001b[43m \u001b[49m\u001b[43mpos_label\u001b[49m\u001b[43m)\u001b[49m\n\u001b[0;32m   1546\u001b[0m \u001b[38;5;66;03m# Calculate tp_sum, pred_sum, true_sum ###\u001b[39;00m\n\u001b[0;32m   1547\u001b[0m samplewise \u001b[38;5;241m=\u001b[39m average \u001b[38;5;241m==\u001b[39m \u001b[38;5;124m\"\u001b[39m\u001b[38;5;124msamples\u001b[39m\u001b[38;5;124m\"\u001b[39m\n",
      "File \u001b[1;32m~\\anaconda3\\lib\\site-packages\\sklearn\\metrics\\_classification.py:1356\u001b[0m, in \u001b[0;36m_check_set_wise_labels\u001b[1;34m(y_true, y_pred, average, labels, pos_label)\u001b[0m\n\u001b[0;32m   1354\u001b[0m     \u001b[38;5;28;01mif\u001b[39;00m pos_label \u001b[38;5;129;01mnot\u001b[39;00m \u001b[38;5;129;01min\u001b[39;00m present_labels:\n\u001b[0;32m   1355\u001b[0m         \u001b[38;5;28;01mif\u001b[39;00m \u001b[38;5;28mlen\u001b[39m(present_labels) \u001b[38;5;241m>\u001b[39m\u001b[38;5;241m=\u001b[39m \u001b[38;5;241m2\u001b[39m:\n\u001b[1;32m-> 1356\u001b[0m             \u001b[38;5;28;01mraise\u001b[39;00m \u001b[38;5;167;01mValueError\u001b[39;00m(\n\u001b[0;32m   1357\u001b[0m                 \u001b[38;5;124mf\u001b[39m\u001b[38;5;124m\"\u001b[39m\u001b[38;5;124mpos_label=\u001b[39m\u001b[38;5;132;01m{\u001b[39;00mpos_label\u001b[38;5;132;01m}\u001b[39;00m\u001b[38;5;124m is not a valid label. It \u001b[39m\u001b[38;5;124m\"\u001b[39m\n\u001b[0;32m   1358\u001b[0m                 \u001b[38;5;124mf\u001b[39m\u001b[38;5;124m\"\u001b[39m\u001b[38;5;124mshould be one of \u001b[39m\u001b[38;5;132;01m{\u001b[39;00mpresent_labels\u001b[38;5;132;01m}\u001b[39;00m\u001b[38;5;124m\"\u001b[39m\n\u001b[0;32m   1359\u001b[0m             )\n\u001b[0;32m   1360\u001b[0m     labels \u001b[38;5;241m=\u001b[39m [pos_label]\n\u001b[0;32m   1361\u001b[0m \u001b[38;5;28;01melse\u001b[39;00m:\n",
      "\u001b[1;31mValueError\u001b[0m: pos_label=benign is not a valid label. It should be one of [0, 1]"
     ]
    }
   ],
   "source": [
    "#evaluation :\n",
    "from sklearn.metrics import precision_score, recall_score, f1_score, confusion_matrix\n",
    "\n",
    "# calculate precision\n",
    "precision = precision_score(y_test, pred,average=\"binary\", pos_label='benign')\n",
    "print(\"Precision:\", precision)\n",
    "\n",
    "# calculate recall\n",
    "recall = recall_score(y_test, pred,average=\"binary\", pos_label='benign')\n",
    "print(\"Recall:\", recall)\n",
    "\n",
    "# calculate F1-score\n",
    "f1 = f1_score(y_test, pred,average=\"binary\", pos_label='benign')\n",
    "print(\"F1-score:\", f1)\n",
    "\n",
    "# calculate confusion matrix\n",
    "conf_matrix = confusion_matrix(y_test, pred)\n",
    "print(\"Confusion matrix:\\n\", conf_matrix)\n",
    "\n",
    "\n",
    "#classification rapport\n",
    "test_accuracy=list()\n",
    "test_accuracy.append(score)\n",
    "    \n",
    "print(\"Test Accuracy: \", score*100, end=\"\\n\")\n",
    "print(\"Classification Report: \")\n",
    "print(classification_report(y_test, pred))\n",
    "\n",
    "print(\"\\n\", test_accuracy)\n"
   ]
  },
  {
   "cell_type": "markdown",
   "metadata": {},
   "source": [
    "<h2>5 - Arbre de decision</h2>"
   ]
  },
  {
   "cell_type": "markdown",
   "metadata": {},
   "source": [
    "Les paramètres sont : \n",
    "<br>max_depth (la profondeur maximale de l'arbre, par défaut c'est non)\n",
    "<br>min_samples_leaf (le nombre minimum d’échantillons requis pour se retrouver à un nœud de feuille, par défaut c'est 1)\n",
    "<br>criterion (Représente la fonction de mesure de la qualité d’une scission. Il peut prendre soit le critère « gini » qui correspond à l’impureté de Gini soit «entropy» qui correspond au gain d’informations, par défaut c'est gini).\n"
   ]
  },
  {
   "cell_type": "code",
   "execution_count": 113,
   "metadata": {},
   "outputs": [],
   "source": [
    "from sklearn.metrics import confusion_matrix,classification_report,accuracy_score\n",
    "from sklearn.tree import DecisionTreeClassifier, plot_tree"
   ]
  },
  {
   "cell_type": "code",
   "execution_count": 114,
   "metadata": {},
   "outputs": [
    {
     "name": "stdout",
     "output_type": "stream",
     "text": [
      "Shape of x_train:  (270105, 16)\n",
      "Shape of x_valid:  (180071, 16)\n",
      "Shape of y_train:  (270105,)\n",
      "Shape of y_valid:  (180071,)\n"
     ]
    }
   ],
   "source": [
    "x__train, x__test, y__train, y__test = train_test_split(x, y, train_size=0.6, random_state=42)\n",
    "print(\"Shape of x_train: \", x__train.shape)\n",
    "print(\"Shape of x_valid: \", x__test.shape)\n",
    "print(\"Shape of y_train: \", y__train.shape)\n",
    "print(\"Shape of y_valid: \", y__test.shape)"
   ]
  },
  {
   "cell_type": "code",
   "execution_count": 115,
   "metadata": {},
   "outputs": [
    {
     "data": {
      "text/plain": [
       "DecisionTreeClassifier()"
      ]
     },
     "execution_count": 115,
     "metadata": {},
     "output_type": "execute_result"
    }
   ],
   "source": [
    "dt_model = DecisionTreeClassifier()  #instanciation\n",
    "\n",
    "dt_model.fit(x__train,y__train) #Apprentissage"
   ]
  },
  {
   "cell_type": "code",
   "execution_count": 116,
   "metadata": {},
   "outputs": [
    {
     "data": {
      "text/plain": [
       "0.9958238694737076"
      ]
     },
     "execution_count": 116,
     "metadata": {},
     "output_type": "execute_result"
    }
   ],
   "source": [
    "dt_predictions = dt_model.predict(x__test)\n",
    "accuracy_score(y__test,dt_predictions) #calcul d'accuracy"
   ]
  },
  {
   "cell_type": "code",
   "execution_count": 117,
   "metadata": {},
   "outputs": [
    {
     "name": "stdout",
     "output_type": "stream",
     "text": [
      "[[137774    356]\n",
      " [   396  41545]]\n"
     ]
    }
   ],
   "source": [
    "#la matrice de confusion\n",
    "print(confusion_matrix(y__test,dt_predictions))"
   ]
  },
  {
   "cell_type": "code",
   "execution_count": 118,
   "metadata": {},
   "outputs": [
    {
     "name": "stdout",
     "output_type": "stream",
     "text": [
      "              precision    recall  f1-score   support\n",
      "\n",
      "           0       1.00      1.00      1.00    138130\n",
      "           1       0.99      0.99      0.99     41941\n",
      "\n",
      "    accuracy                           1.00    180071\n",
      "   macro avg       0.99      0.99      0.99    180071\n",
      "weighted avg       1.00      1.00      1.00    180071\n",
      "\n"
     ]
    }
   ],
   "source": [
    "print(classification_report(y__test, dt_predictions))"
   ]
  },
  {
   "cell_type": "code",
   "execution_count": 119,
   "metadata": {},
   "outputs": [
    {
     "name": "stdout",
     "output_type": "stream",
     "text": [
      "              precision    recall  f1-score   support\n",
      "\n",
      "           0       1.00      1.00      1.00    207608\n",
      "           1       1.00      1.00      1.00     62497\n",
      "\n",
      "    accuracy                           1.00    270105\n",
      "   macro avg       1.00      1.00      1.00    270105\n",
      "weighted avg       1.00      1.00      1.00    270105\n",
      "\n"
     ]
    }
   ],
   "source": [
    "dt_predictions_tr = dt_model.predict(x__train)\n",
    "print(classification_report(y__train, dt_predictions_tr))"
   ]
  },
  {
   "cell_type": "markdown",
   "metadata": {},
   "source": [
    "<h2>6 - Naive Bayes</h2>"
   ]
  },
  {
   "cell_type": "code",
   "execution_count": null,
   "metadata": {},
   "outputs": [],
   "source": [
    "from sklearn.naive_bayes import GaussianNB"
   ]
  },
  {
   "cell_type": "code",
   "execution_count": null,
   "metadata": {},
   "outputs": [],
   "source": [
    "#train the model\n",
    "clf=GaussianNB()\n",
    "clf.fit(x_train,y_train)"
   ]
  },
  {
   "cell_type": "code",
   "execution_count": null,
   "metadata": {},
   "outputs": [],
   "source": [
    "from sklearn.metrics import precision_score, recall_score, f1_score, confusion_matrix\n",
    "\n",
    "#evaluate the model\n",
    "\n",
    "y_pred=clf.predict(x_test)\n",
    "\n",
    "\n",
    "# calculate precision\n",
    "precision = precision_score(y_test, pred,average=\"binary\", pos_label='benign')\n",
    "print(\"Precision:\", precision)\n",
    "\n",
    "# calculate recall\n",
    "recall = recall_score(y_test, pred,average=\"binary\", pos_label='benign')\n",
    "print(\"Recall:\", recall)\n",
    "\n",
    "# calculate F1-score\n",
    "f1 = f1_score(y_test, pred,average=\"binary\", pos_label='benign')\n",
    "print(\"F1-score:\", f1)\n",
    "\n",
    "# calculate confusion matrix\n",
    "conf_matrix = confusion_matrix(y_test, pred)\n",
    "print(\"Confusion matrix:\\n\", conf_matrix)\n",
    "\n",
    "\n",
    "#classification rapport\n",
    "test_accuracy=list()\n",
    "test_accuracy.append(score)\n",
    "    \n",
    "print(\"Test Accuracy: \", score*100, end=\"\\n\")\n",
    "print(\"Classification Report: \")\n",
    "print(classification_report(y_test, pred))\n",
    "\n",
    "print(\"\\n\", test_accuracy)"
   ]
  },
  {
   "cell_type": "code",
   "execution_count": null,
   "metadata": {},
   "outputs": [],
   "source": [
    "#puisque var_smoothing et de l'ordre de 1e-9 on peut essayer dans un premiere temps pour les valeurs 2e-9,2.5e-9,3e-9,3.5e-9,4e-9,4.5e-9\n",
    "for i in [2e-9,2.5e-9,3e-9,3.5e-9,4e-9,4.5e-9]:\n",
    "    gnb=GaussianNB(var_smoothing=i)\n",
    "    #fit the model\n",
    "    gnb.fit(x_train,y_train)\n",
    "    #predicting\n",
    "    y_pred=gnb.predict(x_test)\n",
    "    #calculate accuracy\n",
    "    accuracy=gnb.score(x_test, y_test)\n",
    "    confusion_M=confusion_matrix(y_test,y_pred)\n",
    "    #or\n",
    "    #accuracy=accuracy_score(y_pred, y_test)\n",
    "    print('accuracy de', i ,'=', accuracy)\n",
    " "
   ]
  },
  {
   "cell_type": "code",
   "execution_count": null,
   "metadata": {},
   "outputs": [],
   "source": [
    "#on a une meilleur accuracy pour var_smoothing=2e-09"
   ]
  },
  {
   "cell_type": "code",
   "execution_count": null,
   "metadata": {},
   "outputs": [],
   "source": [
    "#dans un deuxieme temps on vas essayer pour des valeur comprisent entre 2e-9,4e-9\n",
    "#dans ce cas le model utilise un split de type cross_validation\n",
    "#avec nombre de folders est cv=5\n",
    "from sklearn.model_selection import GridSearchCV\n",
    "nb_classifier = GaussianNB()\n",
    "\n",
    "params_NB = {'var_smoothing': np.linspace(2e-9,4e-9,1000)}\n",
    "gs_NB = GridSearchCV(estimator=nb_classifier, \n",
    "                 param_grid=params_NB, \n",
    "                 cv=5,   # use any cross validation technique \n",
    "                 verbose=1, \n",
    "                 scoring='accuracy') \n",
    "gs_NB.fit(x, y)\n",
    "print('le best parameter est',gs_NB.best_params_)\n",
    "print('le best score est', gs_NB.best_score_)\n",
    "print(classification_report(y_test,y_pred))"
   ]
  },
  {
   "cell_type": "code",
   "execution_count": null,
   "metadata": {},
   "outputs": [],
   "source": [
    "#on essay ce parametre avec le split aleatoire\n",
    "Gauss_cls=GaussianNB(var_smoothing=3.203203203203203e-09)\n",
    "Gauss_cls.fit(x_train,y_train)\n",
    "y_pred=Gauss_cls.predict(x_test)\n",
    "accuracy=Gauss_cls.score(x_test, y_test)\n",
    "#confusion_M=confusion_matrix(y_test,y_pred)\n",
    "print('accuracy: ', accuracy)"
   ]
  },
  {
   "cell_type": "code",
   "execution_count": null,
   "metadata": {},
   "outputs": [],
   "source": [
    "# on utilise toujours un split de type cross_validation\n",
    "#avec nombre de folders est cv=10\n",
    "nb_classifier = GaussianNB()\n",
    "\n",
    "params_NB = {'var_smoothing': np.linspace(2e-9,4e-9,1000)}\n",
    "gs_NB = GridSearchCV(estimator=nb_classifier, \n",
    "                 param_grid=params_NB, \n",
    "                 cv=10,   # use any cross validation technique \n",
    "                 verbose=1, \n",
    "                 scoring='accuracy') \n",
    "gs_NB.fit(x, y)\n",
    "print('le best parameter est',gs_NB.best_params_)\n",
    "print('le best score est', gs_NB.best_score_)\n",
    "print(classification_report(y_test,y_pred))"
   ]
  },
  {
   "cell_type": "code",
   "execution_count": null,
   "metadata": {},
   "outputs": [],
   "source": [
    "#on essay ce parametre avec le split aleatoire\n",
    "Gauss_cls=GaussianNB(var_smoothing=3.203203203203203e-09)\n",
    "Gauss_cls.fit(x_train,y_train)\n",
    "y_pred=Gauss_cls.predict(x_test)\n",
    "accuracy=Gauss_cls.score(x_test, y_test)\n",
    "#confusion_M=confusion_matrix(y_test,y_pred)\n",
    "print('accuracy: ', accuracy)"
   ]
  },
  {
   "cell_type": "markdown",
   "metadata": {},
   "source": [
    "<h2>7 - SVM</h2>"
   ]
  },
  {
   "cell_type": "code",
   "execution_count": null,
   "metadata": {},
   "outputs": [],
   "source": [
    "#Import svm model\n",
    "from sklearn.svm import SVC"
   ]
  },
  {
   "cell_type": "code",
   "execution_count": null,
   "metadata": {},
   "outputs": [],
   "source": [
    "# on cree un objet svc\n",
    "svc = SVC()\n",
    "\n",
    "# phase d'apprentissage\n",
    "svc.fit(x_train, y_train)\n",
    "\n",
    "#prediction de données de test\n",
    "y_pred = svc.predict(x_test)\n",
    "\n",
    "#Calcul du précision\n",
    "precision = precision_score(y_test, pred,average=\"binary\", pos_label='benign')\n",
    "print(\"Precision:\", precision)\n",
    "\n",
    "#Calcul du rappel\n",
    "recall = recall_score(y_test, pred,average=\"binary\", pos_label='benign')\n",
    "print(\"Recall:\", recall)\n",
    "\n",
    "#Calcul du F1-score\n",
    "f1 = f1_score(y_test, pred,average=\"binary\", pos_label='benign')\n",
    "print(\"F1-score:\", f1)\n",
    "\n",
    "#Calcul du matrice de confusion\n",
    "conf_matrix = confusion_matrix(y_test, pred)\n",
    "print(\"Confusion matrix:\\n\", conf_matrix)\n",
    "\n",
    "\n",
    "#classification rapport\n",
    "test_accuracy=list()\n",
    "test_accuracy.append(score)\n",
    "    \n",
    "print(\"Test Accuracy: \", score*100, end=\"\\n\")\n",
    "print(\"Classification Report: \")\n",
    "print(classification_report(y_test, pred))\n",
    "\n",
    "print(\"\\n\", test_accuracy)"
   ]
  },
  {
   "cell_type": "code",
   "execution_count": null,
   "metadata": {},
   "outputs": [],
   "source": [
    "#tester sur l'argument kernel: \n",
    "#kernel precise la forme des hyperplans de separation;\n",
    "from concurrent.futures import ThreadPoolExecutor # pour utiliser multitreading afin d'augmenter la vitesse d'execution\n",
    "from sklearn.model_selection import GridSearchCV # pour chercher les arguments les plus presis\n",
    "\n",
    "\n",
    "\n",
    "param_grid = {'kernel': ['linear', 'poly', 'rbf', 'sigmoid']}\n",
    "svc = SVC()\n",
    "\n",
    "# utiliser 4 threads pour l'execution\n",
    "executor = ThreadPoolExecutor(max_workers=4)\n",
    "\n",
    "# utiliser les 4 workers(threads) pour executer gridsearch\n",
    "future = executor.submit(GridSearchCV, svc, param_grid, scoring='accuracy', cv=5)\n",
    "\n",
    "# prendre les resultats\n",
    "grid_search = future.result()\n",
    "grid_search.fit(x, y)\n",
    "\n",
    "# afficher les meilleurs parametres \n",
    "print(grid_search.best_params_)"
   ]
  },
  {
   "cell_type": "code",
   "execution_count": null,
   "metadata": {},
   "outputs": [],
   "source": [
    "# afficher l'accuracy_score pour chaque fitting\n",
    "results = grid_search.cv_results_\n",
    "\n",
    "for mts, params in zip(results['mean_test_score'], results['params']):\n",
    "    print(\"Accuracy: {:.10f} - Parameters: {}\".format(mts, params))\n",
    "    print(classification_report(y_test,y_pred))"
   ]
  },
  {
   "cell_type": "code",
   "execution_count": null,
   "metadata": {},
   "outputs": [],
   "source": [
    "# nous avons decide de travailler avec kernel='rbf' a cause de la difficulte de trouver une separation liniere entre les variables endogenes et car il a la meme precision que kernel='poly'\n",
    "#tester sur l'argument C :\n",
    "#C est le paramètre de pénalité du terme d'erreur. Il contrôle le compromis entre la frontière de décision et la classification correcte des points d'apprentissage.\n",
    "\n",
    "\n",
    "param_grid = {'kernel': ['rbf'], 'C' : [40,80,160,300,500,1000]}\n",
    "svc = SVC()\n",
    "\n",
    "# utiliser 4 threads pour l'execution\n",
    "executor = ThreadPoolExecutor(max_workers=4)\n",
    "\n",
    "# utiliser les 4 workers(threads) pour executer gridsearch\n",
    "future = executor.submit(GridSearchCV, svc, param_grid, scoring='accuracy', cv=5)\n",
    "\n",
    "# prendre les resultats\n",
    "grid_search = future.result()\n",
    "grid_search.fit(x, y)\n",
    "\n",
    "# Print the best parameters\n",
    "print(grid_search.best_params_)"
   ]
  },
  {
   "cell_type": "code",
   "execution_count": null,
   "metadata": {},
   "outputs": [],
   "source": [
    "# afficher l'accuracy_score pour chaque fitting\n",
    "results = grid_search.cv_results_\n",
    "\n",
    "for mts, params in zip(results['mean_test_score'], results['params']):\n",
    "    print(\"Accuracy: {:.10f} - Parameters: {}\".format(mts, params))\n",
    "    print(classification_report(y_test,y_pred))"
   ]
  },
  {
   "cell_type": "code",
   "execution_count": null,
   "metadata": {},
   "outputs": [],
   "source": [
    "#tester sur l'argument gamma :\n",
    "#gamma est un paramètre pour les hyperplans non linéaires. Plus la valeur gamma est élevée, plus il essaie de s'adapter exactement à l'ensemble de données d'entraînement.\n",
    "# nb : j'ai choisis a la fin de travailler avec gamma='scale' car les donnees ne sont pas centrees et reduites\n",
    "\n",
    "param_grid = {'kernel': ['rbf'], 'C' : [40] , 'gamma' : ['scale','auto',100,400,1000]}\n",
    "svc = SVC()\n",
    "\n",
    "# utiliser 4 threads pour l'execution\n",
    "executor = ThreadPoolExecutor(max_workers=4)\n",
    "\n",
    "# utiliser les 4 workers(threads) pour executer gridsearch\n",
    "future = executor.submit(GridSearchCV, svc, param_grid, scoring='accuracy', cv=5)\n",
    "\n",
    "# prendre les resultats\n",
    "grid_search = future.result()\n",
    "grid_search.fit(x, y)\n",
    "\n",
    "# Print the best parameters\n",
    "print(grid_search.best_params_)"
   ]
  },
  {
   "cell_type": "code",
   "execution_count": null,
   "metadata": {},
   "outputs": [],
   "source": [
    "results = grid_search.cv_results_\n",
    "\n",
    "for mts,params in zip(results['mean_test_score'], results['params']):\n",
    "    print(\"Accuracy: {:.100f} - Parameters: {}\".format(mts, params))"
   ]
  },
  {
   "cell_type": "markdown",
   "metadata": {},
   "source": [
    "Test et résultats des 2 meilleurs modèle trouvé :\n",
    "\n"
   ]
  },
  {
   "cell_type": "code",
   "execution_count": null,
   "metadata": {},
   "outputs": [],
   "source": [
    "# creation d'object SVC\n",
    "svc = SVC(kernel='rbf',C=40,gamma='scale')\n",
    "\n",
    "# Fitting\n",
    "svc.fit(x_train, y_train)\n",
    "\n",
    "# predictions avec testing dataset\n",
    "y_pred = svc.predict(x_test)\n",
    "\n",
    "# Calculate the accuracy\n",
    "accuracy = accuracy_score(y_test, y_pred)\n",
    "print(\"Accuracy: {:.8f}%\".format(accuracy * 100))\n",
    "print(classification_report(y_test,y_pred))"
   ]
  },
  {
   "cell_type": "code",
   "execution_count": null,
   "metadata": {},
   "outputs": [],
   "source": [
    "from sklearn.metrics import classification_report\n",
    "# Print the precision and recall\n",
    "print(classification_report(y_test, y_pred))"
   ]
  },
  {
   "cell_type": "code",
   "execution_count": null,
   "metadata": {},
   "outputs": [],
   "source": [
    "# creation d'object SVC\n",
    "svc = SVC(gamma='scale',kernel='poly',degree=9,C=40)\n",
    "\n",
    "# Fit the model to the training data\n",
    "svc.fit(x_train, y_train)\n",
    "\n",
    "# predictions avec testing dataset\n",
    "y_pred = svc.predict(x_test)\n",
    "\n",
    "# Calculate the accuracy\n",
    "accuracy = accuracy_score(y_test, y_pred)\n",
    "print(\"Accuracy: {:.8f}%\".format(accuracy * 100))"
   ]
  },
  {
   "cell_type": "code",
   "execution_count": null,
   "metadata": {},
   "outputs": [],
   "source": [
    "from sklearn.metrics import classification_report\n",
    "# Print the precision and recall\n",
    "print(classification_report(y_test, y_pred))"
   ]
  },
  {
   "cell_type": "markdown",
   "metadata": {},
   "source": [
    "<h2>8 - K-means</h2>"
   ]
  },
  {
   "cell_type": "code",
   "execution_count": null,
   "metadata": {},
   "outputs": [],
   "source": [
    "from sklearn.cluster import KMeans\n",
    "from sklearn.metrics import silhouette_score"
   ]
  },
  {
   "cell_type": "code",
   "execution_count": null,
   "metadata": {},
   "outputs": [],
   "source": [
    "#Détermination de la valeur optimale de K\n",
    "liste= []\n",
    "for i in range(1, 9):\n",
    " model= KMeans(n_clusters = i, init = 'k-means++', random_state = 30)\n",
    " model.fit(X)\n",
    " # Ajout de la somme des carrés à liste\n",
    " liste.append(model.inertia_)"
   ]
  },
  {
   "cell_type": "code",
   "execution_count": null,
   "metadata": {},
   "outputs": [],
   "source": [
    "# graphiquement\n",
    "plt.plot(range(1, 9), liste, '-o')\n",
    "plt.title('La méthode Elbow')\n",
    "plt.xlabel('Nombre de classes')\n",
    "plt.ylabel('Cout du modele')\n",
    "plt.grid()\n",
    "plt.show()"
   ]
  },
  {
   "cell_type": "code",
   "execution_count": null,
   "metadata": {},
   "outputs": [],
   "source": [
    "#methode de ELBOW : k=2\n",
    "#Application deKMeans\n",
    "model = KMeans(n_clusters=2) \n",
    "model.fit(X) \n",
    "y_pred=model.predict(X)\n",
    "model_labels=model.labels_\n",
    "model.inertia_"
   ]
  },
  {
   "cell_type": "code",
   "execution_count": null,
   "metadata": {},
   "outputs": [],
   "source": [
    "#evaluation :\n",
    "from sklearn.metrics import silhouette_score, davies_bouldin_score, calinski_harabasz_score, adjusted_rand_score, normalized_mutual_info_score, fowlkes_mallows_score\n",
    "#interne :\n",
    "\n",
    "# calculate silhouette score\n",
    "silhouette = silhouette_score(X, y_pred)\n",
    "print(\"Silhouette score:\", silhouette)\n",
    "\n",
    "# calculate calinski harabasz score\n",
    "calinski_harabasz = calinski_harabasz_score(X, y_pred)\n",
    "print(\"Calinski harabasz score:\", calinski_harabasz)\n",
    "\n",
    "# calculate the Davies-Bouldin index\n",
    "db = davies_bouldin_score(X, y_pred)\n",
    "print(\"Davies-Bouldin Index:\", db)\n",
    "\n",
    "\n",
    "#externe :test using the true value (true label)\n",
    "# calculate the adjusted Rand index \n",
    "ari = adjusted_rand_score(y, y_pred)\n",
    "print(\"Adjusted Rand Index:\", ari)\n",
    "\n",
    "# calculate the normalized mutual information \n",
    "nmi = normalized_mutual_info_score(y, y_pred)\n",
    "print(\"Normalized Mutual Information:\", nmi)\n",
    "\n",
    "# calculate the Fowlkes-Mallows index \n",
    "fmi = fowlkes_mallows_score(y, y_pred)\n",
    "print(\"Fowlkes-Mallows Index:\", fmi)"
   ]
  },
  {
   "cell_type": "code",
   "execution_count": null,
   "metadata": {},
   "outputs": [],
   "source": [
    "#taux d'erreur\n",
    "# initialize the error rate to 0\n",
    "error_rate = 0\n",
    "\n",
    "# iterate over each data point\n",
    "for i in range(len(X)):\n",
    "    # if the data point is not in the correct cluster, increment the error rate\n",
    "    if y_pred[i] != y[i]:\n",
    "        error_rate += 1\n",
    "\n",
    "# calculate the error rate as a percentage\n",
    "error_rate = error_rate / len(X)\n",
    "print(\"Taux d'erreur :\",error_rate)"
   ]
  },
  {
   "cell_type": "code",
   "execution_count": null,
   "metadata": {},
   "outputs": [],
   "source": [
    "#essayer de corriger l'errer \n",
    "#la modification des parametres de k means\n",
    "from sklearn.cluster import KMeans\n",
    "import numpy as np\n",
    "\n",
    "# Initialize the model with k=3\n",
    "kmeans_1 = KMeans(n_clusters=2, init='random', random_state=0)\n",
    "kmeans_2 = KMeans(n_clusters=2, init='k-means++', random_state=0)\n",
    "\n",
    "# Fit the model on the data\n",
    "kmeans_1.fit(X)\n",
    "kmeans_2.fit(X)\n",
    "\n",
    "# Get the cluster assignments for each point\n",
    "clusters_1 = kmeans_1.predict(X)\n",
    "clusters_2 = kmeans_2.predict(X)\n",
    "\n",
    "# Get the coordinates of the cluster centers\n",
    "centroids_1 = kmeans_1.cluster_centers_\n",
    "centroids_2 = kmeans_2.cluster_centers_\n",
    "\n",
    "# Calculate the within-cluster sum of squares\n",
    "error_1 = kmeans_1.inertia_\n",
    "error_2 = kmeans_2.inertia_\n",
    "print(\"Error rate with random initialization:\", error_1)\n",
    "print(\"Error rate with k-means++ initialization:\", error_2)"
   ]
  },
  {
   "cell_type": "code",
   "execution_count": null,
   "metadata": {},
   "outputs": [],
   "source": [
    "#essayer de trouver le bon k qui va donnees le bon score\n",
    "list_score = []\n",
    "for k in range(2, 9):\n",
    "     model = KMeans(n_clusters = k).fit(X)\n",
    "     labels = model.labels_\n",
    "     list_score.append(silhouette_score(X, labels, metric = 'manhattan',sample_size=5000))"
   ]
  },
  {
   "cell_type": "code",
   "execution_count": null,
   "metadata": {},
   "outputs": [],
   "source": [
    "# Graghiquement\n",
    "plt.plot(range(2, 9), list_score, '-o')\n",
    "plt.xlabel('Nombre de classes')\n",
    "plt.ylabel('Score')\n",
    "plt.grid()\n",
    "plt.show()"
   ]
  },
  {
   "cell_type": "code",
   "execution_count": null,
   "metadata": {},
   "outputs": [],
   "source": [
    "from sklearn.cluster import DBSCAN\n",
    "from sklearn import metrics\n",
    "\n",
    "# Set the parameters for DBSCAN\n",
    "epsilon = 0.5\n",
    "min_samples = 10\n",
    "\n",
    "# Perform DBSCAN clustering\n",
    "data = df.iloc[:, 3:20]\n",
    "db = DBSCAN(eps=epsilon, min_samples=min_samples).fit(data)\n",
    "\n",
    "# Extract labels for each point in the data\n",
    "labels = db.labels_\n",
    "\n",
    "# Number of clusters in labels, ignoring noise if present\n",
    "n_clusters_ = len(set(labels)) - (1 if -1 in labels else 0)\n",
    "from sklearn.metrics import silhouette_score\n",
    "\n",
    "# Get silhouette scores for different values of epsilon\n",
    "eps_range = np.arange(0.1, 1, 0.1)\n",
    "sil_scores = []\n",
    "for eps in eps_range:\n",
    "    db = DBSCAN(eps=eps, min_samples=min_samples)\n",
    "    db.fit(df)\n",
    "    labels = db.labels_\n",
    "    sil_scores.append(silhouette_score(df, labels))\n",
    "\n",
    "# Plot the silhouette scores\n",
    "plt.plot(eps_range, sil_scores)\n",
    "plt.xlabel(\"Epsilon\")\n",
    "plt.ylabel(\"Silhouette Score\")\n",
    "plt.show()"
   ]
  },
  {
   "cell_type": "markdown",
   "metadata": {},
   "source": [
    "<h2>9 - Clustering hiérarchique</h2>"
   ]
  },
  {
   "cell_type": "code",
   "execution_count": null,
   "metadata": {},
   "outputs": [],
   "source": []
  },
  {
   "cell_type": "markdown",
   "metadata": {},
   "source": [
    "<h2>10 - DBSCAN</h2>"
   ]
  },
  {
   "cell_type": "code",
   "execution_count": null,
   "metadata": {},
   "outputs": [],
   "source": [
    "from sklearn.cluster import DBSCAN\n",
    "from sklearn import metrics\n",
    "\n",
    "# choisir les paramètres de départ de DBSCAN\n",
    "epsilon = 0.5\n",
    "min_samples = 10\n",
    "\n",
    "# réaliser le dbscan sur la data numérique, donc seulement les colonnes 3 à 19 inclus\n",
    "data = df.iloc[:, 3:20]\n",
    "db = DBSCAN(eps=epsilon, min_samples=min_samples).fit(data)\n",
    "\n",
    "# extraire les labels\n",
    "labels = db.labels_\n",
    "\n",
    "# en ignorant les données bruitantes, on retrouve le nombre de clusters pertinents\n",
    "n_clusters_ = len(set(labels)) - (1 if -1 in labels else 0)\n",
    "from sklearn.metrics import silhouette_score\n",
    "\n",
    "# Nous testons le score silhouette pour différentes valeurs de epsilon\n",
    "eps_range = np.arange(0.1, 1, 0.1)\n",
    "sil_scores = []\n",
    "for eps in eps_range:\n",
    "    db = DBSCAN(eps=eps, min_samples=min_samples)\n",
    "    db.fit(data)\n",
    "    labels = db.labels_\n",
    "    sil_scores.append(silhouette_score(data, labels))\n",
    "\n",
    "# Visualisation\n",
    "plt.plot(eps_range, sil_scores)\n",
    "plt.xlabel(\"Epsilon\")\n",
    "plt.ylabel(\"Silhouette Score\")\n",
    "plt.show()"
   ]
  },
  {
   "cell_type": "markdown",
   "metadata": {
    "id": "EpiYCoqPKgbS"
   },
   "source": [
    "<h2>11 - MLP</h2>"
   ]
  },
  {
   "cell_type": "code",
   "execution_count": null,
   "metadata": {
    "id": "_y7JKhteKceP"
   },
   "outputs": [],
   "source": [
    "import keras\n",
    "from keras.models import Sequential\n",
    "from keras.layers import Dense, Dropout, Activation\n",
    "from keras.callbacks import ModelCheckpoint\n",
    "import keras\n",
    "from keras.callbacks import ReduceLROnPlateau\n",
    "from keras.models import Sequential\n",
    "from keras.layers import Dense, Conv1D, MaxPooling1D, Flatten, Dropout, BatchNormalization ,Activation\n",
    "from keras.utils import np_utils, to_categorical\n",
    "from keras.callbacks import ModelCheckpoint"
   ]
  },
  {
   "cell_type": "markdown",
   "metadata": {
    "id": "KBHTktT_Mt7Z"
   },
   "source": [
    "***Construction du modèle***\n",
    "<br> Les paramètres sont : \n",
    "<ul>\n",
    "  <li>le nombre de neurones</li>\n",
    "  <li>la fontion d'activation</li>\n",
    "  <li>le nombre de couches intermédiaires</li>"
   ]
  },
  {
   "cell_type": "markdown",
   "metadata": {
    "id": "pgWqIXfNPOu4"
   },
   "source": [
    "**Le modèle 1**"
   ]
  },
  {
   "cell_type": "code",
   "execution_count": null,
   "metadata": {
    "colab": {
     "base_uri": "https://localhost:8080/"
    },
    "id": "l1gH2OjjKnnh",
    "outputId": "f942d2d7-11f8-4d23-c697-cce192068200"
   },
   "outputs": [
    {
     "name": "stdout",
     "output_type": "stream",
     "text": [
      "Model: \"sequential\"\n",
      "_________________________________________________________________\n",
      " Layer (type)                Output Shape              Param #   \n",
      "=================================================================\n",
      " dense (Dense)               (None, 32)                544       \n",
      "                                                                 \n",
      " dense_1 (Dense)             (None, 16)                528       \n",
      "                                                                 \n",
      " dense_2 (Dense)             (None, 8)                 136       \n",
      "                                                                 \n",
      " dense_3 (Dense)             (None, 1)                 9         \n",
      "                                                                 \n",
      "=================================================================\n",
      "Total params: 1,217\n",
      "Trainable params: 1,217\n",
      "Non-trainable params: 0\n",
      "_________________________________________________________________\n"
     ]
    }
   ],
   "source": [
    "#on commence par creer une instance du sequential()\n",
    "model1 = Sequential()\n",
    "\n",
    "#on définit maintenant les couches qu'on veut avoir dans notre modèle\n",
    "model1.add(Dense(32, activation = 'relu', input_shape = (16, ))) #couche d'entrée\n",
    "#des couches intermédiaire\n",
    "model1.add(Dense(16, activation='relu'))\n",
    "model1.add(Dense(8, activation='relu')) \n",
    "model1.add(Dense(1, activation='sigmoid')) #couche de sortie\n",
    "model1.summary()"
   ]
  },
  {
   "cell_type": "markdown",
   "metadata": {
    "id": "R8R7_0ssMx4S"
   },
   "source": [
    "***Compilation du modèle***\n",
    "<br>on choisit la fontion d'erreur (pour diminuer l'erreur)\n",
    "<br>l'optimiseur (pour obtenir des meilleures résultats pour la fonction du perte)\n",
    "<br>La métrique (pour évaluer le modèle)"
   ]
  },
  {
   "cell_type": "code",
   "execution_count": null,
   "metadata": {
    "colab": {
     "base_uri": "https://localhost:8080/"
    },
    "id": "mKmzHMc6M2tY",
    "outputId": "4a84279e-0383-42e6-ac0e-9a73f8b38a1f"
   },
   "outputs": [
    {
     "name": "stderr",
     "output_type": "stream",
     "text": [
      "/usr/local/lib/python3.8/dist-packages/keras/optimizers/optimizer_v2/adam.py:110: UserWarning: The `lr` argument is deprecated, use `learning_rate` instead.\n",
      "  super(Adam, self).__init__(name, **kwargs)\n"
     ]
    }
   ],
   "source": [
    "#l'optimiseur Adam est une méthode de descente de gradient stochastique qui prend en paramètre : le learning rate, beta1, beta2, epsilon, amsgrad\n",
    "#on a précisé juste le learning rate en 0.001 et on a leissé les autres paramètres par défaut\n",
    "optimiseur1 = keras.optimizers.Adam(lr=0.0001) \n",
    "#la fonction de perte choisie ici est binary_crossentropy avec la métrique acc\n",
    "model1.compile(optimizer= optimiseur1 ,loss='binary_crossentropy',metrics=['acc'])"
   ]
  },
  {
   "cell_type": "markdown",
   "metadata": {
    "id": "SwSMY643T_Vb"
   },
   "source": [
    "***Entrainement du modèle***"
   ]
  },
  {
   "cell_type": "code",
   "execution_count": null,
   "metadata": {
    "colab": {
     "base_uri": "https://localhost:8080/"
    },
    "id": "ai-OGQtlQMk8",
    "outputId": "3d79befe-bf23-4fb5-bc3b-8201f0869a5d"
   },
   "outputs": [
    {
     "name": "stdout",
     "output_type": "stream",
     "text": [
      "Epoch 1/10\n",
      "2154/2161 [============================>.] - ETA: 0s - loss: 0.4918 - acc: 0.7990\n",
      "Epoch 1: val_acc improved from -inf to 0.96124, saving model to url.h5\n",
      "2161/2161 [==============================] - 8s 3ms/step - loss: 0.4908 - acc: 0.7995 - val_loss: 0.1782 - val_acc: 0.9612\n",
      "Epoch 2/10\n",
      "2149/2161 [============================>.] - ETA: 0s - loss: 0.0835 - acc: 0.9829\n",
      "Epoch 2: val_acc improved from 0.96124 to 0.99193, saving model to url.h5\n",
      "2161/2161 [==============================] - 7s 3ms/step - loss: 0.0833 - acc: 0.9829 - val_loss: 0.0432 - val_acc: 0.9919\n",
      "Epoch 3/10\n",
      "2152/2161 [============================>.] - ETA: 0s - loss: 0.0305 - acc: 0.9949\n",
      "Epoch 3: val_acc improved from 0.99193 to 0.99522, saving model to url.h5\n",
      "2161/2161 [==============================] - 7s 3ms/step - loss: 0.0304 - acc: 0.9949 - val_loss: 0.0247 - val_acc: 0.9952\n",
      "Epoch 4/10\n",
      "2158/2161 [============================>.] - ETA: 0s - loss: 0.0210 - acc: 0.9962\n",
      "Epoch 4: val_acc improved from 0.99522 to 0.99619, saving model to url.h5\n",
      "2161/2161 [==============================] - 7s 3ms/step - loss: 0.0210 - acc: 0.9962 - val_loss: 0.0200 - val_acc: 0.9962\n",
      "Epoch 5/10\n",
      "2144/2161 [============================>.] - ETA: 0s - loss: 0.0185 - acc: 0.9964\n",
      "Epoch 5: val_acc improved from 0.99619 to 0.99620, saving model to url.h5\n",
      "2161/2161 [==============================] - 6s 3ms/step - loss: 0.0185 - acc: 0.9964 - val_loss: 0.0187 - val_acc: 0.9962\n",
      "Epoch 6/10\n",
      "2150/2161 [============================>.] - ETA: 0s - loss: 0.0176 - acc: 0.9965\n",
      "Epoch 6: val_acc improved from 0.99620 to 0.99649, saving model to url.h5\n",
      "2161/2161 [==============================] - 6s 3ms/step - loss: 0.0176 - acc: 0.9965 - val_loss: 0.0170 - val_acc: 0.9965\n",
      "Epoch 7/10\n",
      "2160/2161 [============================>.] - ETA: 0s - loss: 0.0169 - acc: 0.9966\n",
      "Epoch 7: val_acc did not improve from 0.99649\n",
      "2161/2161 [==============================] - 8s 4ms/step - loss: 0.0169 - acc: 0.9966 - val_loss: 0.0165 - val_acc: 0.9965\n",
      "Epoch 8/10\n",
      "2142/2161 [============================>.] - ETA: 0s - loss: 0.0166 - acc: 0.9966\n",
      "Epoch 8: val_acc did not improve from 0.99649\n",
      "2161/2161 [==============================] - 6s 3ms/step - loss: 0.0166 - acc: 0.9966 - val_loss: 0.0185 - val_acc: 0.9963\n",
      "Epoch 9/10\n",
      "2157/2161 [============================>.] - ETA: 0s - loss: 0.0162 - acc: 0.9967\n",
      "Epoch 9: val_acc improved from 0.99649 to 0.99662, saving model to url.h5\n",
      "2161/2161 [==============================] - 8s 4ms/step - loss: 0.0163 - acc: 0.9967 - val_loss: 0.0161 - val_acc: 0.9966\n",
      "Epoch 10/10\n",
      "2149/2161 [============================>.] - ETA: 0s - loss: 0.0160 - acc: 0.9968\n",
      "Epoch 10: val_acc improved from 0.99662 to 0.99670, saving model to url.h5\n",
      "2161/2161 [==============================] - 7s 3ms/step - loss: 0.0160 - acc: 0.9968 - val_loss: 0.0155 - val_acc: 0.9967\n"
     ]
    }
   ],
   "source": [
    "checkpointer = ModelCheckpoint('url.h5', monitor='val_acc', mode='max', verbose=2, save_best_only=True)\n",
    "history=model1.fit(x_train, y_train, batch_size=256, epochs=10, validation_data=(x_test, y_test), callbacks=[checkpointer])\n",
    "#epochs : nombre d'itération "
   ]
  },
  {
   "cell_type": "code",
   "execution_count": null,
   "metadata": {
    "colab": {
     "base_uri": "https://localhost:8080/",
     "height": 295
    },
    "id": "X_2Hyv9ZVUVm",
    "outputId": "18271836-773d-4f6d-fa55-cccac20e6833"
   },
   "outputs": [
    {
     "data": {
      "image/png": "[encoded data removed]",
      "text/plain": [
       "<Figure size 432x288 with 1 Axes>"
      ]
     },
     "metadata": {
      "needs_background": "light"
     },
     "output_type": "display_data"
    }
   ],
   "source": [
    "# la variation de Accuracy durant l'apprentissage\n",
    "plt.plot(history.history['acc'], color='red')\n",
    "plt.plot(history.history['val_acc'], color='green')\n",
    "plt.title('Model accuracy')\n",
    "plt.ylabel('accuracy')\n",
    "plt.xlabel('epoch')\n",
    "plt.legend(['train_acc','val_acc'], loc = 'upper right')\n",
    "plt.show()"
   ]
  },
  {
   "cell_type": "markdown",
   "metadata": {
    "id": "NJyPnY6ka9zv"
   },
   "source": [
    "In Keras, val_acc is the accuracy of the model on the validation set, while train_acc is the accuracy of the model on the training set. The validation set is a portion of the data that is held out during training and is used to evaluate the performance of the model during training. The training set is used to fit the model's parameters. The difference between the training accuracy and validation accuracy can give an indication of how well the model is generalizing to new data, as a model with a high training accuracy but low validation accuracy is likely overfitting."
   ]
  },
  {
   "cell_type": "code",
   "execution_count": null,
   "metadata": {
    "colab": {
     "base_uri": "https://localhost:8080/",
     "height": 295
    },
    "id": "hJE2ktoCV52O",
    "outputId": "b681c264-d3cc-48cd-c6c0-4a399cacb300"
   },
   "outputs": [
    {
     "data": {
      "image/png": "[encoded data removed]",
      "text/plain": [
       "<Figure size 432x288 with 1 Axes>"
      ]
     },
     "metadata": {
      "needs_background": "light"
     },
     "output_type": "display_data"
    }
   ],
   "source": [
    "# la variation de loss durant l'apprentissage\n",
    "plt.plot(history.history['loss'], color ='red')\n",
    "plt.plot(history.history['val_loss'], color ='green')\n",
    "plt.title('Model loss')\n",
    "plt.ylabel('loss')\n",
    "plt.xlabel('epoch')\n",
    "plt.legend(['train_loss','val_loss'], loc = 'upper right')\n",
    "plt.show()"
   ]
  },
  {
   "cell_type": "markdown",
   "metadata": {
    "id": "Tzn1ogbbWoIY"
   },
   "source": [
    "***Evaluation du modèle***"
   ]
  },
  {
   "cell_type": "code",
   "execution_count": null,
   "metadata": {
    "colab": {
     "base_uri": "https://localhost:8080/"
    },
    "id": "iLTqWvZMWD1c",
    "outputId": "a9b020df-1b89-4b43-d79d-aff7ed1b5ac9"
   },
   "outputs": [
    {
     "name": "stdout",
     "output_type": "stream",
     "text": [
      "4322/4322 [==============================] - 6s 1ms/step\n"
     ]
    }
   ],
   "source": [
    "# predicting on test data.\n",
    "pred_test = model1.predict(x_test)\n",
    "for i in range (len(pred_test)):\n",
    "    if (pred_test[i] < 0.5):\n",
    "        pred_test[i] = 0\n",
    "    else:\n",
    "        pred_test[i] = 1\n",
    "pred_test = pred_test.astype(int)"
   ]
  },
  {
   "cell_type": "code",
   "execution_count": null,
   "metadata": {
    "id": "00RCCo8QXGRI"
   },
   "outputs": [],
   "source": [
    "def view_result(array):\n",
    "    array = np.array(array)\n",
    "    for i in range(len(array)):\n",
    "        if array[i] == 0:\n",
    "            print(\"Non malveillante\")\n",
    "        else:\n",
    "            print(\"Malveillante\")"
   ]
  },
  {
   "cell_type": "code",
   "execution_count": null,
   "metadata": {
    "colab": {
     "base_uri": "https://localhost:8080/"
    },
    "id": "MCX4308kXRQd",
    "outputId": "5033327c-0106-4e37-b410-6ab85fce8ab9"
   },
   "outputs": [
    {
     "name": "stdout",
     "output_type": "stream",
     "text": [
      "Non malveillante\n",
      "Non malveillante\n",
      "Malveillante\n",
      "Malveillante\n",
      "Malveillante\n",
      "Non malveillante\n",
      "Non malveillante\n",
      "Malveillante\n",
      "Malveillante\n",
      "Malveillante\n"
     ]
    }
   ],
   "source": [
    "view_result(pred_test[:10])"
   ]
  },
  {
   "cell_type": "code",
   "execution_count": null,
   "metadata": {
    "colab": {
     "base_uri": "https://localhost:8080/"
    },
    "id": "n_dskW01XTKM",
    "outputId": "b015b592-229e-41b6-8b5b-de9c6ab3773b"
   },
   "outputs": [
    {
     "name": "stdout",
     "output_type": "stream",
     "text": [
      "Non malveillante\n",
      "Non malveillante\n",
      "Malveillante\n",
      "Malveillante\n",
      "Malveillante\n",
      "Non malveillante\n",
      "Non malveillante\n",
      "Malveillante\n",
      "Malveillante\n",
      "Malveillante\n"
     ]
    }
   ],
   "source": [
    "view_result(y_test[:10])"
   ]
  },
  {
   "cell_type": "code",
   "execution_count": null,
   "metadata": {
    "colab": {
     "base_uri": "https://localhost:8080/"
    },
    "id": "Y_7EhCPyW4KQ",
    "outputId": "cccdce1c-c01e-4363-9dfc-d214c3756235"
   },
   "outputs": [
    {
     "name": "stdout",
     "output_type": "stream",
     "text": [
      "[0.01552372332662344, 0.9967027306556702]\n"
     ]
    }
   ],
   "source": [
    "score = model1.evaluate( x_test, y_test, verbose = 0)\n",
    "print(score)"
   ]
  },
  {
   "cell_type": "markdown",
   "metadata": {
    "id": "64fvovfvQW9P"
   },
   "source": [
    "**Le modèle 2**\n",
    "<br>La différence par rapport au modèle 1 est qu'on va modifier le nombre de neurones dans les couches intermédiares\n"
   ]
  },
  {
   "cell_type": "code",
   "execution_count": null,
   "metadata": {
    "colab": {
     "base_uri": "https://localhost:8080/"
    },
    "id": "VpCuPj2wML7_",
    "outputId": "4ae1a781-acbb-4ea0-f5da-c071aecd8240"
   },
   "outputs": [
    {
     "name": "stdout",
     "output_type": "stream",
     "text": [
      "Model: \"sequential_1\"\n",
      "_________________________________________________________________\n",
      " Layer (type)                Output Shape              Param #   \n",
      "=================================================================\n",
      " dense_4 (Dense)             (None, 32)                544       \n",
      "                                                                 \n",
      " dense_5 (Dense)             (None, 32)                1056      \n",
      "                                                                 \n",
      " dense_6 (Dense)             (None, 16)                528       \n",
      "                                                                 \n",
      " dense_7 (Dense)             (None, 1)                 17        \n",
      "                                                                 \n",
      "=================================================================\n",
      "Total params: 2,145\n",
      "Trainable params: 2,145\n",
      "Non-trainable params: 0\n",
      "_________________________________________________________________\n"
     ]
    }
   ],
   "source": [
    "model2 = Sequential()\n",
    "\n",
    "model2.add(Dense(32, activation = 'relu', input_shape = (16, ))) \n",
    "model2.add(Dense(32, activation='relu'))\n",
    "model2.add(Dense(16, activation='relu')) \n",
    "model2.add(Dense(1, activation='sigmoid')) \n",
    "model2.summary()"
   ]
  },
  {
   "cell_type": "code",
   "execution_count": null,
   "metadata": {
    "colab": {
     "base_uri": "https://localhost:8080/"
    },
    "id": "FeT69WtWMazd",
    "outputId": "8a461192-92c5-4295-a60c-30db128608b0"
   },
   "outputs": [
    {
     "name": "stderr",
     "output_type": "stream",
     "text": [
      "/usr/local/lib/python3.8/dist-packages/keras/optimizers/optimizer_v2/adam.py:110: UserWarning: The `lr` argument is deprecated, use `learning_rate` instead.\n",
      "  super(Adam, self).__init__(name, **kwargs)\n"
     ]
    }
   ],
   "source": [
    "optimiseur2= keras.optimizers.Adam(lr=0.0001)\n",
    "model2.compile(optimizer= optimiseur2 ,loss='binary_crossentropy',metrics=['acc'])"
   ]
  },
  {
   "cell_type": "code",
   "execution_count": null,
   "metadata": {
    "colab": {
     "base_uri": "https://localhost:8080/"
    },
    "id": "53QOlUoWMgSi",
    "outputId": "09797ae7-8d1a-4053-80f9-54ca262d3261"
   },
   "outputs": [
    {
     "name": "stdout",
     "output_type": "stream",
     "text": [
      "Epoch 1/5\n",
      "2159/2161 [============================>.] - ETA: 0s - loss: 0.3620 - acc: 0.8845\n",
      "Epoch 1: val_acc improved from -inf to 0.98027, saving model to url.h5\n",
      "2161/2161 [==============================] - 13s 5ms/step - loss: 0.3618 - acc: 0.8846 - val_loss: 0.0807 - val_acc: 0.9803\n",
      "Epoch 2/5\n",
      "2159/2161 [============================>.] - ETA: 0s - loss: 0.0465 - acc: 0.9913\n",
      "Epoch 2: val_acc improved from 0.98027 to 0.99514, saving model to url.h5\n",
      "2161/2161 [==============================] - 7s 3ms/step - loss: 0.0465 - acc: 0.9913 - val_loss: 0.0281 - val_acc: 0.9951\n",
      "Epoch 3/5\n",
      "2154/2161 [============================>.] - ETA: 0s - loss: 0.0244 - acc: 0.9954\n",
      "Epoch 3: val_acc improved from 0.99514 to 0.99627, saving model to url.h5\n",
      "2161/2161 [==============================] - 6s 3ms/step - loss: 0.0245 - acc: 0.9954 - val_loss: 0.0198 - val_acc: 0.9963\n",
      "Epoch 4/5\n",
      "2155/2161 [============================>.] - ETA: 0s - loss: 0.0199 - acc: 0.9960\n",
      "Epoch 4: val_acc improved from 0.99627 to 0.99636, saving model to url.h5\n",
      "2161/2161 [==============================] - 7s 3ms/step - loss: 0.0199 - acc: 0.9960 - val_loss: 0.0176 - val_acc: 0.9964\n",
      "Epoch 5/5\n",
      "2147/2161 [============================>.] - ETA: 0s - loss: 0.0184 - acc: 0.9963\n",
      "Epoch 5: val_acc improved from 0.99636 to 0.99672, saving model to url.h5\n",
      "2161/2161 [==============================] - 6s 3ms/step - loss: 0.0184 - acc: 0.9963 - val_loss: 0.0163 - val_acc: 0.9967\n"
     ]
    }
   ],
   "source": [
    "checkpointer2 = ModelCheckpoint('url.h5', monitor='val_acc', mode='max', verbose=2, save_best_only=True)\n",
    "history2=model2.fit(x_train, y_train, batch_size=256, epochs=5, validation_data=(x_test, y_test), callbacks=[checkpointer2])"
   ]
  },
  {
   "cell_type": "code",
   "execution_count": null,
   "metadata": {
    "colab": {
     "base_uri": "https://localhost:8080/",
     "height": 295
    },
    "id": "iQeD3hrEMm1c",
    "outputId": "f1ac233a-bef0-429e-ac8c-b7955e3cfdf7"
   },
   "outputs": [
    {
     "data": {
      "image/png": "[encoded data removed]",
      "text/plain": [
       "<Figure size 432x288 with 1 Axes>"
      ]
     },
     "metadata": {
      "needs_background": "light"
     },
     "output_type": "display_data"
    }
   ],
   "source": [
    "# la variation de Accuracy durant l'apprentissage\n",
    "plt.plot(history2.history['acc'], color='red')\n",
    "plt.plot(history2.history['val_acc'], color='green')\n",
    "plt.title('Model accuracy')\n",
    "plt.ylabel('accuracy')\n",
    "plt.xlabel('epoch')\n",
    "plt.legend(['train_acc','val_acc'], loc = 'upper right')\n",
    "plt.show()"
   ]
  },
  {
   "cell_type": "code",
   "execution_count": null,
   "metadata": {
    "colab": {
     "base_uri": "https://localhost:8080/",
     "height": 295
    },
    "id": "1Lng1yD3Mtk4",
    "outputId": "533d8a3c-657c-406a-b367-fb3dffd7176d"
   },
   "outputs": [
    {
     "data": {
      "image/png": "[encoded data removed]",
      "text/plain": [
       "<Figure size 432x288 with 1 Axes>"
      ]
     },
     "metadata": {
      "needs_background": "light"
     },
     "output_type": "display_data"
    }
   ],
   "source": [
    "# la variation de loss durant l'apprentissage\n",
    "plt.plot(history2.history['loss'], color ='red')\n",
    "plt.plot(history2.history['val_loss'], color ='green')\n",
    "plt.title('Model loss')\n",
    "plt.ylabel('loss')\n",
    "plt.xlabel('epoch')\n",
    "plt.legend(['train_loss','val_loss'], loc = 'upper right')\n",
    "plt.show()"
   ]
  },
  {
   "cell_type": "code",
   "execution_count": null,
   "metadata": {
    "colab": {
     "base_uri": "https://localhost:8080/"
    },
    "id": "UO_6QlyXMxjf",
    "outputId": "4b456650-7b60-4328-d0ec-1940632f964f"
   },
   "outputs": [
    {
     "name": "stdout",
     "output_type": "stream",
     "text": [
      "4322/4322 [==============================] - 6s 1ms/step\n"
     ]
    }
   ],
   "source": [
    "# predicting on test data.\n",
    "pred_test2 = model2.predict(x_test)\n",
    "for i in range (len(pred_test2)):\n",
    "    if (pred_test2[i] < 0.5):\n",
    "        pred_test2[i] = 0\n",
    "    else:\n",
    "        pred_test2[i] = 1\n",
    "pred_test2 = pred_test2.astype(int)"
   ]
  },
  {
   "cell_type": "code",
   "execution_count": null,
   "metadata": {
    "colab": {
     "base_uri": "https://localhost:8080/"
    },
    "id": "IfqGW9EzM666",
    "outputId": "ecf2f58f-70c5-4636-d354-dd12492653c1"
   },
   "outputs": [
    {
     "name": "stdout",
     "output_type": "stream",
     "text": [
      "Non malveillante\n",
      "Non malveillante\n",
      "Non malveillante\n",
      "Malveillante\n",
      "Non malveillante\n",
      "Non malveillante\n",
      "Non malveillante\n",
      "Malveillante\n",
      "Malveillante\n",
      "Malveillante\n"
     ]
    }
   ],
   "source": [
    "view_result(pred_test2[:10])"
   ]
  },
  {
   "cell_type": "code",
   "execution_count": null,
   "metadata": {
    "colab": {
     "base_uri": "https://localhost:8080/"
    },
    "id": "uTn7XnCyM9dI",
    "outputId": "38b92429-5363-4991-8c66-3873611c6e2f"
   },
   "outputs": [
    {
     "name": "stdout",
     "output_type": "stream",
     "text": [
      "Non malveillante\n",
      "Non malveillante\n",
      "Non malveillante\n",
      "Malveillante\n",
      "Non malveillante\n",
      "Non malveillante\n",
      "Non malveillante\n",
      "Malveillante\n",
      "Malveillante\n",
      "Malveillante\n"
     ]
    }
   ],
   "source": [
    "view_result(y_test[:10])"
   ]
  },
  {
   "cell_type": "code",
   "execution_count": null,
   "metadata": {
    "colab": {
     "base_uri": "https://localhost:8080/"
    },
    "id": "cujUiYpQUwPK",
    "outputId": "4281cdf1-2644-4df1-96bb-9e48391bfe4a"
   },
   "outputs": [
    {
     "name": "stdout",
     "output_type": "stream",
     "text": [
      "[0.01626245118677616, 0.9967244267463684]\n"
     ]
    }
   ],
   "source": [
    "score2 = model2.evaluate( x_test, y_test, verbose = 0)\n",
    "print(score2)"
   ]
  },
  {
   "cell_type": "markdown",
   "metadata": {
    "id": "vDh34s80Q6kO"
   },
   "source": [
    "**Le modèle 3**\n",
    "<br>On va changer les fonctions d'activation\n"
   ]
  },
  {
   "cell_type": "code",
   "execution_count": null,
   "metadata": {
    "colab": {
     "base_uri": "https://localhost:8080/"
    },
    "id": "gMeHAxgiSaP0",
    "outputId": "69afa33b-d5c0-46b5-e336-312d320c76de"
   },
   "outputs": [
    {
     "name": "stdout",
     "output_type": "stream",
     "text": [
      "Model: \"sequential_2\"\n",
      "_________________________________________________________________\n",
      " Layer (type)                Output Shape              Param #   \n",
      "=================================================================\n",
      " dense_8 (Dense)             (None, 32)                544       \n",
      "                                                                 \n",
      " dense_9 (Dense)             (None, 16)                528       \n",
      "                                                                 \n",
      " dense_10 (Dense)            (None, 8)                 136       \n",
      "                                                                 \n",
      " dense_11 (Dense)            (None, 1)                 9         \n",
      "                                                                 \n",
      "=================================================================\n",
      "Total params: 1,217\n",
      "Trainable params: 1,217\n",
      "Non-trainable params: 0\n",
      "_________________________________________________________________\n"
     ]
    }
   ],
   "source": [
    "model3 = Sequential()\n",
    "\n",
    "model3.add(Dense(32, activation = 'sigmoid', input_shape = (16, ))) \n",
    "model3.add(Dense(16, activation='sigmoid'))\n",
    "model3.add(Dense(8, activation='sigmoid')) \n",
    "model3.add(Dense(1, activation='relu')) \n",
    "model3.summary()"
   ]
  },
  {
   "cell_type": "code",
   "execution_count": null,
   "metadata": {
    "colab": {
     "base_uri": "https://localhost:8080/"
    },
    "id": "a7EzsjUhS-XT",
    "outputId": "628ec88f-b416-428f-8d71-49be5a2f58da"
   },
   "outputs": [
    {
     "name": "stderr",
     "output_type": "stream",
     "text": [
      "/usr/local/lib/python3.8/dist-packages/keras/optimizers/optimizer_v2/adam.py:110: UserWarning: The `lr` argument is deprecated, use `learning_rate` instead.\n",
      "  super(Adam, self).__init__(name, **kwargs)\n"
     ]
    }
   ],
   "source": [
    "optimiseur3= keras.optimizers.Adam(lr=0.0001)\n",
    "model3.compile(optimizer= optimiseur3 ,loss='binary_crossentropy',metrics=['acc'])"
   ]
  },
  {
   "cell_type": "code",
   "execution_count": null,
   "metadata": {
    "colab": {
     "base_uri": "https://localhost:8080/"
    },
    "id": "Y6enJI2wT6VK",
    "outputId": "b6555064-3935-4a06-d525-7488e0b0c50b"
   },
   "outputs": [
    {
     "name": "stdout",
     "output_type": "stream",
     "text": [
      "Epoch 1/5\n",
      "2153/2161 [============================>.] - ETA: 0s - loss: 0.6070 - acc: 0.6878\n",
      "Epoch 1: val_acc improved from -inf to 0.89450, saving model to url.h5\n",
      "2161/2161 [==============================] - 6s 3ms/step - loss: 0.6061 - acc: 0.6885 - val_loss: 0.3688 - val_acc: 0.8945\n",
      "Epoch 2/5\n",
      "2148/2161 [============================>.] - ETA: 0s - loss: 0.1782 - acc: 0.9465\n",
      "Epoch 2: val_acc improved from 0.89450 to 0.97661, saving model to url.h5\n",
      "2161/2161 [==============================] - 6s 3ms/step - loss: 0.1777 - acc: 0.9467 - val_loss: 0.0850 - val_acc: 0.9766\n",
      "Epoch 3/5\n",
      "2151/2161 [============================>.] - ETA: 0s - loss: 0.0675 - acc: 0.9862\n",
      "Epoch 3: val_acc improved from 0.97661 to 0.99124, saving model to url.h5\n",
      "2161/2161 [==============================] - 6s 3ms/step - loss: 0.0674 - acc: 0.9862 - val_loss: 0.0529 - val_acc: 0.9912\n",
      "Epoch 4/5\n",
      "2146/2161 [============================>.] - ETA: 0s - loss: 0.0508 - acc: 0.9914\n",
      "Epoch 4: val_acc improved from 0.99124 to 0.99283, saving model to url.h5\n",
      "2161/2161 [==============================] - 6s 3ms/step - loss: 0.0507 - acc: 0.9914 - val_loss: 0.0424 - val_acc: 0.9928\n",
      "Epoch 5/5\n",
      "2153/2161 [============================>.] - ETA: 0s - loss: 0.0422 - acc: 0.9933\n",
      "Epoch 5: val_acc did not improve from 0.99283\n",
      "2161/2161 [==============================] - 6s 3ms/step - loss: 0.0423 - acc: 0.9932 - val_loss: 0.0430 - val_acc: 0.9923\n"
     ]
    }
   ],
   "source": [
    "checkpointer3 = ModelCheckpoint('url.h5', monitor='val_acc', mode='max', verbose=2, save_best_only=True)\n",
    "history3=model3.fit(x_train, y_train, batch_size=256, epochs=5, validation_data=(x_test, y_test), callbacks=[checkpointer3])"
   ]
  },
  {
   "cell_type": "code",
   "execution_count": null,
   "metadata": {
    "colab": {
     "base_uri": "https://localhost:8080/",
     "height": 295
    },
    "id": "9yKnp-ddUTR3",
    "outputId": "e7169f4d-09d0-4f03-c079-3ddec0144c6c"
   },
   "outputs": [
    {
     "data": {
      "image/png": "[encoded data removed]",
      "text/plain": [
       "<Figure size 432x288 with 1 Axes>"
      ]
     },
     "metadata": {
      "needs_background": "light"
     },
     "output_type": "display_data"
    }
   ],
   "source": [
    "# la variation de Accuracy durant l'apprentissage\n",
    "plt.plot(history3.history['acc'], color='red')\n",
    "plt.plot(history3.history['val_acc'], color='green')\n",
    "plt.title('Model accuracy')\n",
    "plt.ylabel('accuracy')\n",
    "plt.xlabel('epoch')\n",
    "plt.legend(['train_acc','val_acc'], loc = 'upper right')\n",
    "plt.show()"
   ]
  },
  {
   "cell_type": "code",
   "execution_count": null,
   "metadata": {
    "colab": {
     "base_uri": "https://localhost:8080/",
     "height": 295
    },
    "id": "ikMsVka2UYxW",
    "outputId": "834cf9d2-d5d3-4715-a04a-3475f59f2ed1"
   },
   "outputs": [
    {
     "data": {
      "image/png": "[encoded data removed]",
      "text/plain": [
       "<Figure size 432x288 with 1 Axes>"
      ]
     },
     "metadata": {
      "needs_background": "light"
     },
     "output_type": "display_data"
    }
   ],
   "source": [
    "# la variation de loss durant l'apprentissage\n",
    "plt.plot(history3.history['loss'], color ='red')\n",
    "plt.plot(history3.history['val_loss'], color ='green')\n",
    "plt.title('Model loss')\n",
    "plt.ylabel('loss')\n",
    "plt.xlabel('epoch')\n",
    "plt.legend(['train_loss','val_loss'], loc = 'upper right')\n",
    "plt.show()"
   ]
  },
  {
   "cell_type": "code",
   "execution_count": null,
   "metadata": {
    "colab": {
     "base_uri": "https://localhost:8080/"
    },
    "id": "7GXrALbqUeUv",
    "outputId": "7a706adb-233b-444f-d4e7-cb134aa58a3f"
   },
   "outputs": [
    {
     "name": "stdout",
     "output_type": "stream",
     "text": [
      "4322/4322 [==============================] - 6s 1ms/step\n"
     ]
    }
   ],
   "source": [
    "# predicting on test data.\n",
    "pred_test3 = model3.predict(x_test)\n",
    "for i in range (len(pred_test3)):\n",
    "    if (pred_test3[i] < 0.5):\n",
    "        pred_test3[i] = 0\n",
    "    else:\n",
    "        pred_test3[i] = 1\n",
    "pred_test3 = pred_test3.astype(int)"
   ]
  },
  {
   "cell_type": "code",
   "execution_count": null,
   "metadata": {
    "colab": {
     "base_uri": "https://localhost:8080/"
    },
    "id": "lW7GJ11IUqaa",
    "outputId": "b530b78c-4ea4-477b-d848-23b10d0329ec"
   },
   "outputs": [
    {
     "name": "stdout",
     "output_type": "stream",
     "text": [
      "Non malveillante\n",
      "Non malveillante\n",
      "Non malveillante\n",
      "Malveillante\n",
      "Non malveillante\n",
      "Non malveillante\n",
      "Non malveillante\n",
      "Malveillante\n",
      "Malveillante\n",
      "Malveillante\n"
     ]
    }
   ],
   "source": [
    "view_result(pred_test3[:10])"
   ]
  },
  {
   "cell_type": "code",
   "execution_count": null,
   "metadata": {
    "colab": {
     "base_uri": "https://localhost:8080/"
    },
    "id": "mw1QPtScUqiJ",
    "outputId": "ec5a57db-a6a0-4e09-fec2-82b4396d8b01"
   },
   "outputs": [
    {
     "name": "stdout",
     "output_type": "stream",
     "text": [
      "Non malveillante\n",
      "Non malveillante\n",
      "Non malveillante\n",
      "Malveillante\n",
      "Non malveillante\n",
      "Non malveillante\n",
      "Non malveillante\n",
      "Malveillante\n",
      "Malveillante\n",
      "Malveillante\n"
     ]
    }
   ],
   "source": [
    "view_result(y_test[:10])"
   ]
  },
  {
   "cell_type": "code",
   "execution_count": null,
   "metadata": {
    "colab": {
     "base_uri": "https://localhost:8080/"
    },
    "id": "dGe3blPAUqu_",
    "outputId": "cb0c1a4e-e81a-4828-8d57-588a0a0ed601"
   },
   "outputs": [
    {
     "name": "stdout",
     "output_type": "stream",
     "text": [
      "[0.043009042739868164, 0.9922702312469482]\n"
     ]
    }
   ],
   "source": [
    "score3 = model3.evaluate( x_test, y_test, verbose = 0)\n",
    "print(score3)"
   ]
  },
  {
   "cell_type": "markdown",
   "metadata": {
    "id": "YuRiIqXMRTpw"
   },
   "source": [
    "**Le modèle 4**\n",
    "<br> On va ajouter de couches intermédiaires\n"
   ]
  },
  {
   "cell_type": "code",
   "execution_count": null,
   "metadata": {
    "colab": {
     "base_uri": "https://localhost:8080/"
    },
    "id": "5w2x34xeSjKx",
    "outputId": "3f47755a-bddf-4833-9097-b585854942a6"
   },
   "outputs": [
    {
     "name": "stdout",
     "output_type": "stream",
     "text": [
      "Model: \"sequential_3\"\n",
      "_________________________________________________________________\n",
      " Layer (type)                Output Shape              Param #   \n",
      "=================================================================\n",
      " dense_12 (Dense)            (None, 32)                544       \n",
      "                                                                 \n",
      " dense_13 (Dense)            (None, 16)                528       \n",
      "                                                                 \n",
      " dense_14 (Dense)            (None, 8)                 136       \n",
      "                                                                 \n",
      " dense_15 (Dense)            (None, 64)                576       \n",
      "                                                                 \n",
      " dense_16 (Dense)            (None, 32)                2080      \n",
      "                                                                 \n",
      " dense_17 (Dense)            (None, 1)                 33        \n",
      "                                                                 \n",
      "=================================================================\n",
      "Total params: 3,897\n",
      "Trainable params: 3,897\n",
      "Non-trainable params: 0\n",
      "_________________________________________________________________\n"
     ]
    }
   ],
   "source": [
    "model4 = Sequential()\n",
    "\n",
    "model4.add(Dense(32, activation = 'relu', input_shape = (16, ))) \n",
    "model4.add(Dense(16, activation='relu'))\n",
    "model4.add(Dense(8, activation='relu')) \n",
    "model4.add(Dense(64, activation='relu'))\n",
    "model4.add(Dense(32, activation='sigmoid'))\n",
    "model4.add(Dense(1, activation='sigmoid')) \n",
    "model4.summary()"
   ]
  },
  {
   "cell_type": "code",
   "execution_count": null,
   "metadata": {
    "colab": {
     "base_uri": "https://localhost:8080/"
    },
    "id": "xd2r0eKqTDi9",
    "outputId": "b641ed21-c659-4608-88cd-d4e8d152cc27"
   },
   "outputs": [
    {
     "name": "stderr",
     "output_type": "stream",
     "text": [
      "/usr/local/lib/python3.8/dist-packages/keras/optimizers/optimizer_v2/adam.py:110: UserWarning: The `lr` argument is deprecated, use `learning_rate` instead.\n",
      "  super(Adam, self).__init__(name, **kwargs)\n"
     ]
    }
   ],
   "source": [
    "optimiseur4= keras.optimizers.Adam(lr=0.0001)\n",
    "model4.compile(optimizer= optimiseur4 ,loss='binary_crossentropy',metrics=['acc'])"
   ]
  },
  {
   "cell_type": "code",
   "execution_count": null,
   "metadata": {
    "colab": {
     "base_uri": "https://localhost:8080/"
    },
    "id": "UBENT-b8T-Ex",
    "outputId": "5e3f0405-f3f4-4b57-e05b-62fd34eb6b34"
   },
   "outputs": [
    {
     "name": "stdout",
     "output_type": "stream",
     "text": [
      "Epoch 1/5\n",
      "2148/2161 [============================>.] - ETA: 0s - loss: 0.2275 - acc: 0.9100\n",
      "Epoch 1: val_acc improved from -inf to 0.99466, saving model to url.h5\n",
      "2161/2161 [==============================] - 8s 4ms/step - loss: 0.2263 - acc: 0.9105 - val_loss: 0.0303 - val_acc: 0.9947\n",
      "Epoch 2/5\n",
      "2159/2161 [============================>.] - ETA: 0s - loss: 0.0239 - acc: 0.9952\n",
      "Epoch 2: val_acc improved from 0.99466 to 0.99638, saving model to url.h5\n",
      "2161/2161 [==============================] - 7s 3ms/step - loss: 0.0239 - acc: 0.9952 - val_loss: 0.0180 - val_acc: 0.9964\n",
      "Epoch 3/5\n",
      "2148/2161 [============================>.] - ETA: 0s - loss: 0.0186 - acc: 0.9959\n",
      "Epoch 3: val_acc improved from 0.99638 to 0.99664, saving model to url.h5\n",
      "2161/2161 [==============================] - 7s 3ms/step - loss: 0.0186 - acc: 0.9960 - val_loss: 0.0160 - val_acc: 0.9966\n",
      "Epoch 4/5\n",
      "2149/2161 [============================>.] - ETA: 0s - loss: 0.0171 - acc: 0.9963\n",
      "Epoch 4: val_acc did not improve from 0.99664\n",
      "2161/2161 [==============================] - 7s 3ms/step - loss: 0.0171 - acc: 0.9963 - val_loss: 0.0166 - val_acc: 0.9965\n",
      "Epoch 5/5\n",
      "2149/2161 [============================>.] - ETA: 0s - loss: 0.0165 - acc: 0.9964\n",
      "Epoch 5: val_acc improved from 0.99664 to 0.99681, saving model to url.h5\n",
      "2161/2161 [==============================] - 7s 3ms/step - loss: 0.0164 - acc: 0.9964 - val_loss: 0.0149 - val_acc: 0.9968\n"
     ]
    }
   ],
   "source": [
    "checkpointer4 = ModelCheckpoint('url.h5', monitor='val_acc', mode='max', verbose=2, save_best_only=True)\n",
    "history4=model4.fit(x_train, y_train, batch_size=256, epochs=5, validation_data=(x_test, y_test), callbacks=[checkpointer4])"
   ]
  },
  {
   "cell_type": "code",
   "execution_count": null,
   "metadata": {
    "colab": {
     "base_uri": "https://localhost:8080/",
     "height": 295
    },
    "id": "XHsArsJ7UaDk",
    "outputId": "652974e7-b500-42a5-bf21-97f9e0fdf17c"
   },
   "outputs": [
    {
     "data": {
      "image/png": "[encoded data removed]",
      "text/plain": [
       "<Figure size 432x288 with 1 Axes>"
      ]
     },
     "metadata": {
      "needs_background": "light"
     },
     "output_type": "display_data"
    }
   ],
   "source": [
    "# la variation de Accuracy durant l'apprentissage\n",
    "plt.plot(history4.history['acc'], color='red')\n",
    "plt.plot(history4.history['val_acc'], color='green')\n",
    "plt.title('Model accuracy')\n",
    "plt.ylabel('accuracy')\n",
    "plt.xlabel('epoch')\n",
    "plt.legend(['train_acc','val_acc'], loc = 'upper right')\n",
    "plt.show()"
   ]
  },
  {
   "cell_type": "code",
   "execution_count": null,
   "metadata": {
    "colab": {
     "base_uri": "https://localhost:8080/",
     "height": 295
    },
    "id": "7GS-eKqAUkyh",
    "outputId": "ba45c889-ac66-4a7e-baf9-c400352ba8d2"
   },
   "outputs": [
    {
     "data": {
      "image/png": "[encoded data removed]",
      "text/plain": [
       "<Figure size 432x288 with 1 Axes>"
      ]
     },
     "metadata": {
      "needs_background": "light"
     },
     "output_type": "display_data"
    }
   ],
   "source": [
    "# la variation de loss durant l'apprentissage\n",
    "plt.plot(history4.history['loss'], color ='red')\n",
    "plt.plot(history4.history['val_loss'], color ='green')\n",
    "plt.title('Model loss')\n",
    "plt.ylabel('loss')\n",
    "plt.xlabel('epoch')\n",
    "plt.legend(['train_loss','val_loss'], loc = 'upper right')\n",
    "plt.show()"
   ]
  },
  {
   "cell_type": "code",
   "execution_count": null,
   "metadata": {
    "colab": {
     "base_uri": "https://localhost:8080/"
    },
    "id": "Obqyse45VFMx",
    "outputId": "edb527c1-4de4-4750-e203-d17b3d9f86d7"
   },
   "outputs": [
    {
     "name": "stdout",
     "output_type": "stream",
     "text": [
      "4322/4322 [==============================] - 6s 1ms/step\n"
     ]
    }
   ],
   "source": [
    "# predicting on test data.\n",
    "pred_test4 = model4.predict(x_test)\n",
    "for i in range (len(pred_test4)):\n",
    "    if (pred_test4[i] < 0.5):\n",
    "        pred_test4[i] = 0\n",
    "    else:\n",
    "        pred_test4[i] = 1\n",
    "pred_test4 = pred_test4.astype(int)"
   ]
  },
  {
   "cell_type": "code",
   "execution_count": null,
   "metadata": {
    "colab": {
     "base_uri": "https://localhost:8080/"
    },
    "id": "nG8M1u-oVFvc",
    "outputId": "036eca52-eec5-4467-dfee-06f7a6e7b31d"
   },
   "outputs": [
    {
     "name": "stdout",
     "output_type": "stream",
     "text": [
      "Non malveillante\n",
      "Non malveillante\n",
      "Non malveillante\n",
      "Malveillante\n",
      "Non malveillante\n",
      "Non malveillante\n",
      "Non malveillante\n",
      "Malveillante\n",
      "Malveillante\n",
      "Malveillante\n"
     ]
    }
   ],
   "source": [
    "view_result(pred_test4[:10])"
   ]
  },
  {
   "cell_type": "code",
   "execution_count": null,
   "metadata": {
    "colab": {
     "base_uri": "https://localhost:8080/"
    },
    "id": "wXxF7tVTVF2p",
    "outputId": "c89c15cc-6775-4475-e590-94c7dc4ce0b1"
   },
   "outputs": [
    {
     "name": "stdout",
     "output_type": "stream",
     "text": [
      "Non malveillante\n",
      "Non malveillante\n",
      "Non malveillante\n",
      "Malveillante\n",
      "Non malveillante\n",
      "Non malveillante\n",
      "Non malveillante\n",
      "Malveillante\n",
      "Malveillante\n",
      "Malveillante\n"
     ]
    }
   ],
   "source": [
    "view_result(y_test[:10])"
   ]
  },
  {
   "cell_type": "code",
   "execution_count": null,
   "metadata": {
    "colab": {
     "base_uri": "https://localhost:8080/"
    },
    "id": "X8Ihu5F3VF7r",
    "outputId": "8bcf5022-a858-40a6-d65d-bf705ae659fa"
   },
   "outputs": [
    {
     "name": "stdout",
     "output_type": "stream",
     "text": [
      "[0.01491992361843586, 0.9968112111091614]\n"
     ]
    }
   ],
   "source": [
    "score4 = model4.evaluate( x_test, y_test, verbose = 0)\n",
    "print(score4)"
   ]
  }
 ],
 "metadata": {
  "colab": {
   "provenance": []
  },
  "kernelspec": {
   "display_name": "Python 3 (ipykernel)",
   "language": "python",
   "name": "python3"
  },
  "language_info": {
   "codemirror_mode": {
    "name": "ipython",
    "version": 3
   },
   "file_extension": ".py",
   "mimetype": "text/x-python",
   "name": "python",
   "nbconvert_exporter": "python",
   "pygments_lexer": "ipython3",
   "version": "3.9.12"
  }
 },
 "nbformat": 4,
 "nbformat_minor": 1
}
